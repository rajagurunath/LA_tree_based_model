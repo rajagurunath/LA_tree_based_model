{
 "cells": [
  {
   "cell_type": "code",
   "execution_count": 1,
   "metadata": {},
   "outputs": [
    {
     "name": "stderr",
     "output_type": "stream",
     "text": [
      "C:\\Users\\gurunath.lv\\AppData\\Local\\Continuum\\Anaconda3\\lib\\site-packages\\statsmodels\\compat\\pandas.py:56: FutureWarning: The pandas.core.datetools module is deprecated and will be removed in a future version. Please use the pandas.tseries module instead.\n",
      "  from pandas.core import datetools\n"
     ]
    }
   ],
   "source": [
    "import tsfresh"
   ]
  },
  {
   "cell_type": "code",
   "execution_count": 2,
   "metadata": {
    "collapsed": true
   },
   "outputs": [],
   "source": [
    "import pandas as pd\n",
    "import os\n",
    "PATH=r'D:\\windstream_official\\Anomaly detection\\models\\\\'\n",
    "DATA_DIR=r'D:\\windstream_official\\Anomaly detection\\data\\processed\\\\'\n",
    "filename='ochctp_PM_full.csv'\n",
    "path=os.path.join(DATA_DIR,filename)\n"
   ]
  },
  {
   "cell_type": "code",
   "execution_count": 3,
   "metadata": {
    "collapsed": true
   },
   "outputs": [],
   "source": [
    "emb_ten=pd.read_csv(r'D:\\windstream_official\\Anomaly detection\\data\\processed\\tensors.tsv',sep='\\t',header=None)"
   ]
  },
  {
   "cell_type": "code",
   "execution_count": null,
   "metadata": {
    "collapsed": true
   },
   "outputs": [],
   "source": []
  },
  {
   "cell_type": "code",
   "execution_count": 4,
   "metadata": {},
   "outputs": [
    {
     "name": "stderr",
     "output_type": "stream",
     "text": [
      "C:\\Users\\gurunath.lv\\AppData\\Local\\Continuum\\Anaconda3\\lib\\site-packages\\gensim\\utils.py:1209: UserWarning: detected Windows; aliasing chunkize to chunkize_serial\n",
      "  warnings.warn(\"detected Windows; aliasing chunkize to chunkize_serial\")\n"
     ]
    }
   ],
   "source": [
    "from gensim.models.keyedvectors import WordEmbeddingsKeyedVectors\n",
    "\n",
    "# Limit to movies with at least this many ratings in the dataset\n"
   ]
  },
  {
   "cell_type": "code",
   "execution_count": 5,
   "metadata": {
    "collapsed": true
   },
   "outputs": [],
   "source": [
    "device_name=pd.read_csv(r'D:\\windstream_official\\Anomaly detection\\data\\processed\\metadata.tsv',sep='\\t',header=None)"
   ]
  },
  {
   "cell_type": "code",
   "execution_count": 6,
   "metadata": {},
   "outputs": [
    {
     "data": {
      "text/plain": [
       "['1-A-1-L1-1',\n",
       " '1-A-1-L1-10',\n",
       " '1-A-1-L1-2',\n",
       " '1-A-1-L1-3',\n",
       " '1-A-1-L1-4',\n",
       " '1-A-1-L1-5',\n",
       " '1-A-1-L1-6',\n",
       " '1-A-1-L1-7',\n",
       " '1-A-1-L1-8',\n",
       " '1-A-1-L1-9',\n",
       " '1-A-3-L1-1',\n",
       " '1-A-3-L1-10',\n",
       " '1-A-3-L1-2',\n",
       " '1-A-3-L1-3',\n",
       " '1-A-3-L1-4',\n",
       " '1-A-3-L1-5',\n",
       " '1-A-3-L1-6',\n",
       " '1-A-3-L1-7',\n",
       " '1-A-3-L1-8',\n",
       " '1-A-3-L1-9',\n",
       " '1-A-5-L1-1',\n",
       " '1-A-5-L1-10',\n",
       " '1-A-5-L1-2',\n",
       " '1-A-5-L1-3',\n",
       " '1-A-5-L1-4',\n",
       " '1-A-5-L1-5',\n",
       " '1-A-5-L1-6',\n",
       " '1-A-5-L1-7',\n",
       " '1-A-5-L1-8',\n",
       " '1-A-5-L1-9',\n",
       " '1-B-1-L1-1',\n",
       " '1-B-1-L1-10',\n",
       " '1-B-1-L1-2',\n",
       " '1-B-1-L1-3',\n",
       " '1-B-1-L1-4',\n",
       " '1-B-1-L1-5',\n",
       " '1-B-1-L1-6',\n",
       " '1-B-1-L1-7',\n",
       " '1-B-1-L1-8',\n",
       " '1-B-1-L1-9',\n",
       " '1-B-5-L1-1',\n",
       " '1-B-5-L1-10',\n",
       " '1-B-5-L1-2',\n",
       " '1-B-5-L1-3',\n",
       " '1-B-5-L1-4',\n",
       " '1-B-5-L1-5',\n",
       " '1-B-5-L1-6',\n",
       " '1-B-5-L1-7',\n",
       " '1-B-5-L1-8',\n",
       " '1-B-5-L1-9',\n",
       " '10-L1-1',\n",
       " '10-L1-10',\n",
       " '10-L1-2',\n",
       " '10-L1-3',\n",
       " '10-L1-4',\n",
       " '10-L1-5',\n",
       " '10-L1-6',\n",
       " '10-L1-7',\n",
       " '10-L1-8',\n",
       " '10-L1-9',\n",
       " '11-L1-1',\n",
       " '11-L1-10',\n",
       " '11-L1-2',\n",
       " '11-L1-3',\n",
       " '11-L1-4',\n",
       " '11-L1-5',\n",
       " '11-L1-6',\n",
       " '11-L1-7',\n",
       " '11-L1-8',\n",
       " '11-L1-9',\n",
       " '13-L1-1',\n",
       " '13-L1-10',\n",
       " '13-L1-2',\n",
       " '13-L1-3',\n",
       " '13-L1-4',\n",
       " '13-L1-5',\n",
       " '13-L1-6',\n",
       " '13-L1-7',\n",
       " '13-L1-8',\n",
       " '13-L1-9',\n",
       " '7-A-1-L1-1',\n",
       " '7-A-1-L1-10',\n",
       " '7-A-1-L1-2',\n",
       " '7-A-1-L1-3',\n",
       " '7-A-1-L1-4',\n",
       " '7-A-1-L1-5',\n",
       " '7-A-1-L1-6',\n",
       " '7-A-1-L1-7',\n",
       " '7-A-1-L1-8',\n",
       " '7-A-1-L1-9',\n",
       " '7-A-3-L1-1',\n",
       " '7-A-3-L1-10',\n",
       " '7-A-3-L1-2',\n",
       " '7-A-3-L1-3',\n",
       " '7-A-3-L1-4',\n",
       " '7-A-3-L1-5',\n",
       " '7-A-3-L1-6',\n",
       " '7-A-3-L1-7',\n",
       " '7-A-3-L1-8',\n",
       " '7-A-3-L1-9',\n",
       " '7-B-1-L1-1',\n",
       " '7-B-1-L1-10',\n",
       " '7-B-1-L1-2',\n",
       " '7-B-1-L1-3',\n",
       " '7-B-1-L1-4',\n",
       " '7-B-1-L1-5',\n",
       " '7-B-1-L1-6',\n",
       " '7-B-1-L1-7',\n",
       " '7-B-1-L1-8',\n",
       " '7-B-1-L1-9',\n",
       " '7-B-3-L1-1',\n",
       " '7-B-3-L1-10',\n",
       " '7-B-3-L1-2',\n",
       " '7-B-3-L1-3',\n",
       " '7-B-3-L1-4',\n",
       " '7-B-3-L1-5',\n",
       " '7-B-3-L1-6',\n",
       " '7-B-3-L1-7',\n",
       " '7-B-3-L1-8',\n",
       " '7-B-3-L1-9',\n",
       " '7-B-4-L1-1',\n",
       " '7-B-4-L1-10',\n",
       " '7-B-4-L1-2',\n",
       " '7-B-4-L1-3',\n",
       " '7-B-4-L1-4',\n",
       " '7-B-4-L1-5',\n",
       " '7-B-4-L1-6',\n",
       " '7-B-4-L1-7',\n",
       " '7-B-4-L1-8',\n",
       " '7-B-4-L1-9',\n",
       " '8-A-1-L1-1',\n",
       " '8-A-1-L1-10',\n",
       " '8-A-1-L1-2',\n",
       " '8-A-1-L1-3',\n",
       " '8-A-1-L1-4',\n",
       " '8-A-1-L1-5',\n",
       " '8-A-1-L1-6',\n",
       " '8-A-1-L1-7',\n",
       " '8-A-1-L1-8',\n",
       " '8-A-1-L1-9',\n",
       " '8-A-3-L1-1',\n",
       " '8-A-3-L1-10',\n",
       " '8-A-3-L1-2',\n",
       " '8-A-3-L1-3',\n",
       " '8-A-3-L1-4',\n",
       " '8-A-3-L1-5',\n",
       " '8-A-3-L1-6',\n",
       " '8-A-3-L1-7',\n",
       " '8-A-3-L1-8',\n",
       " '8-A-3-L1-9',\n",
       " '8-A-5-L1-1',\n",
       " '8-A-5-L1-10',\n",
       " '8-A-5-L1-2',\n",
       " '8-A-5-L1-3',\n",
       " '8-A-5-L1-4',\n",
       " '8-A-5-L1-5',\n",
       " '8-A-5-L1-6',\n",
       " '8-A-5-L1-7',\n",
       " '8-A-5-L1-8',\n",
       " '8-A-5-L1-9',\n",
       " '8-B-1-L1-1',\n",
       " '8-B-1-L1-10',\n",
       " '8-B-1-L1-2',\n",
       " '8-B-1-L1-3',\n",
       " '8-B-1-L1-4',\n",
       " '8-B-1-L1-5',\n",
       " '8-B-1-L1-6',\n",
       " '8-B-1-L1-7',\n",
       " '8-B-1-L1-8',\n",
       " '8-B-1-L1-9',\n",
       " '8-B-3-L1-1',\n",
       " '8-B-3-L1-10',\n",
       " '8-B-3-L1-2',\n",
       " '8-B-3-L1-3',\n",
       " '8-B-3-L1-4',\n",
       " '8-B-3-L1-5',\n",
       " '8-B-3-L1-6',\n",
       " '8-B-3-L1-7',\n",
       " '8-B-3-L1-8',\n",
       " '8-B-3-L1-9',\n",
       " '9-A-1-L1-1',\n",
       " '9-A-1-L1-10',\n",
       " '9-A-1-L1-2',\n",
       " '9-A-1-L1-3',\n",
       " '9-A-1-L1-4',\n",
       " '9-A-1-L1-5',\n",
       " '9-A-1-L1-6',\n",
       " '9-A-1-L1-7',\n",
       " '9-A-1-L1-8',\n",
       " '9-A-1-L1-9',\n",
       " '9-A-3-L1-1',\n",
       " '9-A-3-L1-10',\n",
       " '9-A-3-L1-2',\n",
       " '9-A-3-L1-3',\n",
       " '9-A-3-L1-4',\n",
       " '9-A-3-L1-5',\n",
       " '9-A-3-L1-6',\n",
       " '9-A-3-L1-7',\n",
       " '9-A-3-L1-8',\n",
       " '9-A-3-L1-9',\n",
       " '9-A-5-L1-1',\n",
       " '9-A-5-L1-10',\n",
       " '9-A-5-L1-2',\n",
       " '9-A-5-L1-3',\n",
       " '9-A-5-L1-4',\n",
       " '9-A-5-L1-5',\n",
       " '9-A-5-L1-6',\n",
       " '9-A-5-L1-7',\n",
       " '9-A-5-L1-8',\n",
       " '9-A-5-L1-9',\n",
       " '9-B-1-L1-1',\n",
       " '9-B-1-L1-10',\n",
       " '9-B-1-L1-2',\n",
       " '9-B-1-L1-3',\n",
       " '9-B-1-L1-4',\n",
       " '9-B-1-L1-5',\n",
       " '9-B-1-L1-6',\n",
       " '9-B-1-L1-7',\n",
       " '9-B-1-L1-8',\n",
       " '9-B-1-L1-9',\n",
       " '9-B-3-L1-1',\n",
       " '9-B-3-L1-10',\n",
       " '9-B-3-L1-2',\n",
       " '9-B-3-L1-3',\n",
       " '9-B-3-L1-4',\n",
       " '9-B-3-L1-5',\n",
       " '9-B-3-L1-6',\n",
       " '9-B-3-L1-7',\n",
       " '9-B-3-L1-8',\n",
       " '9-B-3-L1-9',\n",
       " '9-B-5-L1-1',\n",
       " '9-B-5-L1-10',\n",
       " '9-B-5-L1-2',\n",
       " '9-B-5-L1-3',\n",
       " '9-B-5-L1-4',\n",
       " '9-B-5-L1-5',\n",
       " '9-B-5-L1-6',\n",
       " '9-B-5-L1-7',\n",
       " '9-B-5-L1-8',\n",
       " '9-B-5-L1-9']"
      ]
     },
     "execution_count": 6,
     "metadata": {},
     "output_type": "execute_result"
    }
   ],
   "source": [
    "device_name.iloc[:,0].tolist()"
   ]
  },
  {
   "cell_type": "code",
   "execution_count": 7,
   "metadata": {
    "collapsed": true
   },
   "outputs": [],
   "source": [
    "kv=WordEmbeddingsKeyedVectors(128)\n"
   ]
  },
  {
   "cell_type": "code",
   "execution_count": 8,
   "metadata": {
    "collapsed": true
   },
   "outputs": [],
   "source": [
    "kv.add(\n",
    "device_name.iloc[:,0].tolist(),\n",
    "emb_ten.values\n",
    "\n",
    ")"
   ]
  },
  {
   "cell_type": "code",
   "execution_count": 9,
   "metadata": {},
   "outputs": [
    {
     "data": {
      "text/plain": [
       "array([ 0.26780021,  0.09020463,  0.11417368, -1.24162948, -0.30705351,\n",
       "        0.58860475, -0.88344276, -0.11960123, -0.18765208,  0.46802253,\n",
       "       -0.42119068,  0.46925893,  0.24591261, -1.82713354,  0.65743303,\n",
       "       -0.1097294 ,  1.0824672 , -2.09368682, -0.41653648,  0.52629566,\n",
       "        1.58529222, -0.92435026, -0.12338738, -0.40528002, -1.34192467,\n",
       "        0.29183128,  0.76021343,  0.33656806, -0.15638064,  0.61802989,\n",
       "        1.4779371 ,  1.00477171, -1.43615317,  1.34476173, -0.32716158,\n",
       "       -1.2590853 , -0.56217194, -0.09629681,  1.3528837 , -0.72923601,\n",
       "       -0.44024307,  0.16113111,  0.18302111, -3.05186558, -0.77052516,\n",
       "        0.45337114,  0.84000903, -0.98392069, -0.55795807, -0.33604723,\n",
       "        0.26572305, -0.38982493, -1.77078366, -0.01407772, -0.34126025,\n",
       "        1.45267212, -0.46940684,  0.39028531,  1.61185682,  0.4376446 ,\n",
       "       -0.08316401, -0.76870358, -0.82645136,  0.17908345, -1.21832418,\n",
       "       -1.5222528 , -0.85368574, -0.03077901,  2.89997983, -0.36414558,\n",
       "       -0.98461002, -2.05701733, -1.49430537,  0.46587536,  0.08399072,\n",
       "        0.73913431,  0.04566171, -2.27381325, -0.66335791,  0.00448396,\n",
       "        1.56454265, -1.28842854, -0.6396926 , -0.97236031, -0.7637859 ,\n",
       "       -0.13517939, -1.45250666,  0.22085649,  0.63856244,  0.36756939,\n",
       "       -0.00544157, -0.88213611,  0.14209327,  0.07113203, -0.76586401,\n",
       "        0.67507756,  1.31198061, -1.79839671,  0.5605461 , -0.49927545,\n",
       "       -1.02367687, -1.00081563,  1.54140067,  1.00013137,  0.47851777,\n",
       "       -0.31569806, -0.47918499, -1.24362028, -2.25103068, -1.14937353,\n",
       "       -0.50006229, -0.07071981,  0.21394514,  0.70013773, -0.07502922,\n",
       "       -0.93718553,  1.50421011,  0.27047321,  0.80611545,  0.24833548,\n",
       "        0.19650169,  0.37762889,  0.21246693,  0.88566774, -0.48176289,\n",
       "       -1.31389344, -1.36960971,  0.07593678])"
      ]
     },
     "execution_count": 9,
     "metadata": {},
     "output_type": "execute_result"
    }
   ],
   "source": [
    "kv.get_vector('1-A-3-L1-5')"
   ]
  },
  {
   "cell_type": "markdown",
   "metadata": {},
   "source": [
    "# Identifying Similar Devices to the given devices"
   ]
  },
  {
   "cell_type": "code",
   "execution_count": 10,
   "metadata": {},
   "outputs": [
    {
     "name": "stderr",
     "output_type": "stream",
     "text": [
      "C:\\Users\\gurunath.lv\\AppData\\Local\\Continuum\\Anaconda3\\lib\\site-packages\\gensim\\matutils.py:737: FutureWarning: Conversion of the second argument of issubdtype from `int` to `np.signedinteger` is deprecated. In future, it will be treated as `np.int32 == np.dtype(int).type`.\n",
      "  if np.issubdtype(vec.dtype, np.int):\n"
     ]
    },
    {
     "data": {
      "text/plain": [
       "[('9-B-1-L1-10', 0.23108795285224915),\n",
       " ('8-A-3-L1-3', 0.2303399294614792),\n",
       " ('1-A-3-L1-3', 0.20361751317977905),\n",
       " ('9-A-5-L1-7', 0.18984170258045197),\n",
       " ('1-B-5-L1-4', 0.18239417672157288),\n",
       " ('9-A-3-L1-7', 0.1755242794752121),\n",
       " ('8-B-3-L1-8', 0.17273716628551483),\n",
       " ('1-A-1-L1-6', 0.15935838222503662),\n",
       " ('1-B-5-L1-2', 0.15572769939899445),\n",
       " ('8-B-1-L1-8', 0.14670029282569885)]"
      ]
     },
     "execution_count": 10,
     "metadata": {},
     "output_type": "execute_result"
    }
   ],
   "source": [
    "kv.most_similar('1-A-3-L1-5')"
   ]
  },
  {
   "cell_type": "code",
   "execution_count": 11,
   "metadata": {},
   "outputs": [
    {
     "name": "stderr",
     "output_type": "stream",
     "text": [
      "C:\\Users\\gurunath.lv\\AppData\\Local\\Continuum\\Anaconda3\\lib\\site-packages\\gensim\\matutils.py:737: FutureWarning: Conversion of the second argument of issubdtype from `int` to `np.signedinteger` is deprecated. In future, it will be treated as `np.int32 == np.dtype(int).type`.\n",
      "  if np.issubdtype(vec.dtype, np.int):\n"
     ]
    },
    {
     "data": {
      "text/plain": [
       "[('13-L1-9', 0.27206188440322876),\n",
       " ('7-B-4-L1-5', 0.20066678524017334),\n",
       " ('7-A-3-L1-5', 0.18295353651046753),\n",
       " ('1-B-5-L1-10', 0.16879475116729736),\n",
       " ('7-B-1-L1-4', 0.16295164823532104),\n",
       " ('7-A-3-L1-1', 0.16285908222198486),\n",
       " ('8-A-3-L1-9', 0.16254934668540955),\n",
       " ('1-B-1-L1-10', 0.15029367804527283),\n",
       " ('9-B-3-L1-10', 0.15026049315929413),\n",
       " ('9-B-3-L1-4', 0.14071479439735413)]"
      ]
     },
     "execution_count": 11,
     "metadata": {},
     "output_type": "execute_result"
    }
   ],
   "source": [
    "kv.most_similar('13-L1-1')"
   ]
  },
  {
   "cell_type": "code",
   "execution_count": 12,
   "metadata": {
    "collapsed": true
   },
   "outputs": [],
   "source": [
    "import matplotlib.pyplot as plt\n",
    "from sklearn.decomposition import PCA\n",
    "plt.style.use('fivethirtyeight')"
   ]
  },
  {
   "cell_type": "code",
   "execution_count": 13,
   "metadata": {
    "collapsed": true
   },
   "outputs": [],
   "source": [
    "pca =PCA(n_components=2)\n",
    "emb_vect=pca.fit_transform(emb_ten.values)\n"
   ]
  },
  {
   "cell_type": "code",
   "execution_count": 14,
   "metadata": {},
   "outputs": [
    {
     "data": {
      "image/png": "[encoded data removed]",
      "text/plain": [
       "<Figure size 432x288 with 1 Axes>"
      ]
     },
     "metadata": {},
     "output_type": "display_data"
    }
   ],
   "source": [
    "plt.scatter(emb_vect[:,0],emb_vect[:,1])\n",
    "plt.title('Device Embedding vis')\n",
    "plt.show()"
   ]
  },
  {
   "cell_type": "code",
   "execution_count": 15,
   "metadata": {
    "collapsed": true
   },
   "outputs": [],
   "source": [
    "raw_df=pd.read_feather(f'{DATA_DIR}raw_df_feather')"
   ]
  },
  {
   "cell_type": "code",
   "execution_count": null,
   "metadata": {
    "collapsed": true
   },
   "outputs": [],
   "source": [
    "import torch\n",
    "import torch.nn as nn"
   ]
  },
  {
   "cell_type": "code",
   "execution_count": null,
   "metadata": {
    "collapsed": true
   },
   "outputs": [],
   "source": [
    "class DeviceEmbedder(nn.Module):\n",
    "    def __init__(self,emb_dims):\n",
    "        \"\"\"\n",
    "        emb_dims :[120,128]\n",
    "        \"\"\"\n",
    "        super().__init__()\n",
    "        \n",
    "        \n",
    "        self.emb_layers = nn.Embedding(emb_dims[0],emb_dims[1])\n",
    "        self.layer1=nn.Linear(emb_dims[1]+1,128)\n",
    "        self.out=nn.Linear(128,11)\n",
    "        \n",
    "    def forward(self,cat,timeComponent):\n",
    "        x=self.emb_layers(cat).type_as(timeComponent).squeeze()\n",
    "        x = torch.cat([x, timeComponent.view(-1,1)], 1)\n",
    "        x=self.layer1(x)\n",
    "        x=F.dropout(x,p=0.4)\n",
    "        x=F.relu(x)\n",
    "        x=self.out(x)\n",
    "        return x"
   ]
  },
  {
   "cell_type": "code",
   "execution_count": null,
   "metadata": {},
   "outputs": [],
   "source": [
    "emb_dims=(240,128) \n",
    "Reg=DeviceEmbedder(emb_dims)\n",
    "list(Reg.named_parameters())"
   ]
  },
  {
   "cell_type": "code",
   "execution_count": null,
   "metadata": {},
   "outputs": [],
   "source": [
    "Reg.load_state_dict(torch.load(r'D:\\windstream_official\\Anomaly detection\\models\\deviceEmb_model.pkt'))\n",
    "list(Reg.named_parameters())"
   ]
  },
  {
   "cell_type": "code",
   "execution_count": null,
   "metadata": {
    "collapsed": true
   },
   "outputs": [],
   "source": [
    "test=raw_df.iloc[-1000:]"
   ]
  },
  {
   "cell_type": "code",
   "execution_count": null,
   "metadata": {},
   "outputs": [],
   "source": [
    "import pickle\n",
    "#pd_cat_codes=test[cat_names[0]]\n",
    "pd_cat_codes=pickle.load(open('D:\\windstream_official\\Anomaly detection\\models\\device_catemb.pkl','rb'))\n",
    "#feat_df[cat_names[0]]=pd_cat_codes.cat.codes\n"
   ]
  },
  {
   "cell_type": "code",
   "execution_count": null,
   "metadata": {
    "collapsed": true
   },
   "outputs": [],
   "source": [
    "import numpy as np"
   ]
  },
  {
   "cell_type": "code",
   "execution_count": null,
   "metadata": {
    "collapsed": true
   },
   "outputs": [],
   "source": [
    "#Reg(torch.LongTensor([227]).view(-1,0),torch.from_numpy(np.array([0.354,0.456])))"
   ]
  },
  {
   "cell_type": "code",
   "execution_count": null,
   "metadata": {},
   "outputs": [],
   "source": [
    "#Reg(test[''])\n",
    "raw_df.columns"
   ]
  },
  {
   "cell_type": "code",
   "execution_count": 39,
   "metadata": {},
   "outputs": [],
   "source": [
    "timeseries=raw_df[['PhaseCorrectionAve','BerPreFecAve','performance_metrics.module']]"
   ]
  },
  {
   "cell_type": "code",
   "execution_count": 17,
   "metadata": {},
   "outputs": [
    {
     "name": "stderr",
     "output_type": "stream",
     "text": [
      "C:\\Users\\gurunath.lv\\AppData\\Local\\Continuum\\Anaconda3\\lib\\site-packages\\ipykernel\\__main__.py:1: SettingWithCopyWarning: \n",
      "A value is trying to be set on a copy of a slice from a DataFrame.\n",
      "Try using .loc[row_indexer,col_indexer] = value instead\n",
      "\n",
      "See the caveats in the documentation: http://pandas.pydata.org/pandas-docs/stable/indexing.html#indexing-view-versus-copy\n",
      "  if __name__ == '__main__':\n"
     ]
    }
   ],
   "source": [
    "timeseries['colum_id']=timeseries.index"
   ]
  },
  {
   "cell_type": "code",
   "execution_count": 34,
   "metadata": {},
   "outputs": [
    {
     "data": {
      "text/html": [
       "<div>\n",
       "<style>\n",
       "    .dataframe thead tr:only-child th {\n",
       "        text-align: right;\n",
       "    }\n",
       "\n",
       "    .dataframe thead th {\n",
       "        text-align: left;\n",
       "    }\n",
       "\n",
       "    .dataframe tbody tr th {\n",
       "        vertical-align: top;\n",
       "    }\n",
       "</style>\n",
       "<table border=\"1\" class=\"dataframe\">\n",
       "  <thead>\n",
       "    <tr style=\"text-align: right;\">\n",
       "      <th></th>\n",
       "      <th>PhaseCorrectionAve</th>\n",
       "      <th>BerPreFecAve</th>\n",
       "      <th>performance_metrics.module</th>\n",
       "      <th>performance_metrics.ts</th>\n",
       "    </tr>\n",
       "  </thead>\n",
       "  <tbody>\n",
       "    <tr>\n",
       "      <th>0</th>\n",
       "      <td>-55.0</td>\n",
       "      <td>0.000371</td>\n",
       "      <td>9-B-3-L1-6</td>\n",
       "      <td>2018-02-28 23:00:00</td>\n",
       "    </tr>\n",
       "    <tr>\n",
       "      <th>1</th>\n",
       "      <td>-55.0</td>\n",
       "      <td>0.000371</td>\n",
       "      <td>9-B-3-L1-6</td>\n",
       "      <td>2018-02-28 23:15:00</td>\n",
       "    </tr>\n",
       "    <tr>\n",
       "      <th>2</th>\n",
       "      <td>-55.0</td>\n",
       "      <td>0.000375</td>\n",
       "      <td>9-B-3-L1-6</td>\n",
       "      <td>2018-02-28 23:30:00</td>\n",
       "    </tr>\n",
       "    <tr>\n",
       "      <th>3</th>\n",
       "      <td>-55.0</td>\n",
       "      <td>0.000375</td>\n",
       "      <td>9-B-3-L1-6</td>\n",
       "      <td>2018-02-28 23:45:00</td>\n",
       "    </tr>\n",
       "    <tr>\n",
       "      <th>4</th>\n",
       "      <td>-55.0</td>\n",
       "      <td>0.000368</td>\n",
       "      <td>9-B-3-L1-6</td>\n",
       "      <td>2018-03-01 00:00:00</td>\n",
       "    </tr>\n",
       "  </tbody>\n",
       "</table>\n",
       "</div>"
      ],
      "text/plain": [
       "   PhaseCorrectionAve  BerPreFecAve performance_metrics.module  \\\n",
       "0               -55.0      0.000371                 9-B-3-L1-6   \n",
       "1               -55.0      0.000371                 9-B-3-L1-6   \n",
       "2               -55.0      0.000375                 9-B-3-L1-6   \n",
       "3               -55.0      0.000375                 9-B-3-L1-6   \n",
       "4               -55.0      0.000368                 9-B-3-L1-6   \n",
       "\n",
       "  performance_metrics.ts  \n",
       "0    2018-02-28 23:00:00  \n",
       "1    2018-02-28 23:15:00  \n",
       "2    2018-02-28 23:30:00  \n",
       "3    2018-02-28 23:45:00  \n",
       "4    2018-03-01 00:00:00  "
      ]
     },
     "execution_count": 34,
     "metadata": {},
     "output_type": "execute_result"
    }
   ],
   "source": [
    "timeseries.head()"
   ]
  },
  {
   "cell_type": "code",
   "execution_count": 42,
   "metadata": {
    "collapsed": true
   },
   "outputs": [],
   "source": [
    "timeseries=timeseries.fillna(0)"
   ]
  },
  {
   "cell_type": "code",
   "execution_count": null,
   "metadata": {
    "collapsed": true
   },
   "outputs": [],
   "source": []
  },
  {
   "cell_type": "code",
   "execution_count": 43,
   "metadata": {
    "collapsed": true
   },
   "outputs": [],
   "source": [
    "samplets=timeseries.iloc[:100000]"
   ]
  },
  {
   "cell_type": "code",
   "execution_count": 44,
   "metadata": {},
   "outputs": [
    {
     "data": {
      "text/plain": [
       "9-A-5-L1-8    16998\n",
       "9-B-3-L1-6    16996\n",
       "8-A-1-L1-8    16996\n",
       "9-B-5-L1-6    16992\n",
       "11-L1-5       16981\n",
       "7-B-3-L1-3    15037\n",
       "Name: performance_metrics.module, dtype: int64"
      ]
     },
     "execution_count": 44,
     "metadata": {},
     "output_type": "execute_result"
    }
   ],
   "source": [
    "samplets['performance_metrics.module'].value_counts()"
   ]
  },
  {
   "cell_type": "code",
   "execution_count": null,
   "metadata": {},
   "outputs": [
    {
     "name": "stderr",
     "output_type": "stream",
     "text": [
      "\n",
      "\n",
      "Feature Extraction:   0%|                               | 0/12 [00:00<?, ?it/s]"
     ]
    }
   ],
   "source": [
    "from tsfresh import extract_features\n",
    "extracted_features = extract_features(samplets, column_id='performance_metrics.module')"
   ]
  },
  {
   "cell_type": "code",
   "execution_count": 22,
   "metadata": {},
   "outputs": [
    {
     "data": {
      "text/html": [
       "<div>\n",
       "<style>\n",
       "    .dataframe thead tr:only-child th {\n",
       "        text-align: right;\n",
       "    }\n",
       "\n",
       "    .dataframe thead th {\n",
       "        text-align: left;\n",
       "    }\n",
       "\n",
       "    .dataframe tbody tr th {\n",
       "        vertical-align: top;\n",
       "    }\n",
       "</style>\n",
       "<table border=\"1\" class=\"dataframe\">\n",
       "  <thead>\n",
       "    <tr style=\"text-align: right;\">\n",
       "      <th>variable</th>\n",
       "      <th>BerPreFecAve__abs_energy</th>\n",
       "      <th>BerPreFecAve__absolute_sum_of_changes</th>\n",
       "      <th>BerPreFecAve__agg_autocorrelation__f_agg_\"mean\"</th>\n",
       "      <th>BerPreFecAve__agg_autocorrelation__f_agg_\"median\"</th>\n",
       "      <th>BerPreFecAve__agg_autocorrelation__f_agg_\"var\"</th>\n",
       "      <th>BerPreFecAve__agg_linear_trend__f_agg_\"max\"__chunk_len_10__attr_\"intercept\"</th>\n",
       "      <th>BerPreFecAve__agg_linear_trend__f_agg_\"max\"__chunk_len_10__attr_\"rvalue\"</th>\n",
       "      <th>BerPreFecAve__agg_linear_trend__f_agg_\"max\"__chunk_len_10__attr_\"slope\"</th>\n",
       "      <th>BerPreFecAve__agg_linear_trend__f_agg_\"max\"__chunk_len_10__attr_\"stderr\"</th>\n",
       "      <th>BerPreFecAve__agg_linear_trend__f_agg_\"max\"__chunk_len_50__attr_\"intercept\"</th>\n",
       "      <th>...</th>\n",
       "      <th>colum_id__time_reversal_asymmetry_statistic__lag_1</th>\n",
       "      <th>colum_id__time_reversal_asymmetry_statistic__lag_2</th>\n",
       "      <th>colum_id__time_reversal_asymmetry_statistic__lag_3</th>\n",
       "      <th>colum_id__value_count__value_-inf</th>\n",
       "      <th>colum_id__value_count__value_0</th>\n",
       "      <th>colum_id__value_count__value_1</th>\n",
       "      <th>colum_id__value_count__value_inf</th>\n",
       "      <th>colum_id__value_count__value_nan</th>\n",
       "      <th>colum_id__variance</th>\n",
       "      <th>colum_id__variance_larger_than_standard_deviation</th>\n",
       "    </tr>\n",
       "    <tr>\n",
       "      <th>id</th>\n",
       "      <th></th>\n",
       "      <th></th>\n",
       "      <th></th>\n",
       "      <th></th>\n",
       "      <th></th>\n",
       "      <th></th>\n",
       "      <th></th>\n",
       "      <th></th>\n",
       "      <th></th>\n",
       "      <th></th>\n",
       "      <th></th>\n",
       "      <th></th>\n",
       "      <th></th>\n",
       "      <th></th>\n",
       "      <th></th>\n",
       "      <th></th>\n",
       "      <th></th>\n",
       "      <th></th>\n",
       "      <th></th>\n",
       "      <th></th>\n",
       "      <th></th>\n",
       "    </tr>\n",
       "  </thead>\n",
       "  <tbody>\n",
       "    <tr>\n",
       "      <th>9-B-3-L1-6</th>\n",
       "      <td>0.000134</td>\n",
       "      <td>0.004107</td>\n",
       "      <td>0.294556</td>\n",
       "      <td>0.235439</td>\n",
       "      <td>0.023849</td>\n",
       "      <td>0.000381</td>\n",
       "      <td>-0.371537</td>\n",
       "      <td>-1.289319e-07</td>\n",
       "      <td>3.254537e-08</td>\n",
       "      <td>0.00039</td>\n",
       "      <td>...</td>\n",
       "      <td>1330002.0</td>\n",
       "      <td>2.657345e+06</td>\n",
       "      <td>3982038.0</td>\n",
       "      <td>0.0</td>\n",
       "      <td>1.0</td>\n",
       "      <td>1.0</td>\n",
       "      <td>0.0</td>\n",
       "      <td>0.0</td>\n",
       "      <td>83333.25</td>\n",
       "      <td>1.0</td>\n",
       "    </tr>\n",
       "  </tbody>\n",
       "</table>\n",
       "<p>1 rows × 2364 columns</p>\n",
       "</div>"
      ],
      "text/plain": [
       "variable    BerPreFecAve__abs_energy  BerPreFecAve__absolute_sum_of_changes  \\\n",
       "id                                                                            \n",
       "9-B-3-L1-6                  0.000134                               0.004107   \n",
       "\n",
       "variable    BerPreFecAve__agg_autocorrelation__f_agg_\"mean\"  \\\n",
       "id                                                            \n",
       "9-B-3-L1-6                                         0.294556   \n",
       "\n",
       "variable    BerPreFecAve__agg_autocorrelation__f_agg_\"median\"  \\\n",
       "id                                                              \n",
       "9-B-3-L1-6                                           0.235439   \n",
       "\n",
       "variable    BerPreFecAve__agg_autocorrelation__f_agg_\"var\"  \\\n",
       "id                                                           \n",
       "9-B-3-L1-6                                        0.023849   \n",
       "\n",
       "variable    BerPreFecAve__agg_linear_trend__f_agg_\"max\"__chunk_len_10__attr_\"intercept\"  \\\n",
       "id                                                                                        \n",
       "9-B-3-L1-6                                           0.000381                             \n",
       "\n",
       "variable    BerPreFecAve__agg_linear_trend__f_agg_\"max\"__chunk_len_10__attr_\"rvalue\"  \\\n",
       "id                                                                                     \n",
       "9-B-3-L1-6                                          -0.371537                          \n",
       "\n",
       "variable    BerPreFecAve__agg_linear_trend__f_agg_\"max\"__chunk_len_10__attr_\"slope\"  \\\n",
       "id                                                                                    \n",
       "9-B-3-L1-6                                      -1.289319e-07                         \n",
       "\n",
       "variable    BerPreFecAve__agg_linear_trend__f_agg_\"max\"__chunk_len_10__attr_\"stderr\"  \\\n",
       "id                                                                                     \n",
       "9-B-3-L1-6                                       3.254537e-08                          \n",
       "\n",
       "variable    BerPreFecAve__agg_linear_trend__f_agg_\"max\"__chunk_len_50__attr_\"intercept\"  \\\n",
       "id                                                                                        \n",
       "9-B-3-L1-6                                            0.00039                             \n",
       "\n",
       "variable                          ...                          \\\n",
       "id                                ...                           \n",
       "9-B-3-L1-6                        ...                           \n",
       "\n",
       "variable    colum_id__time_reversal_asymmetry_statistic__lag_1  \\\n",
       "id                                                               \n",
       "9-B-3-L1-6                                          1330002.0    \n",
       "\n",
       "variable    colum_id__time_reversal_asymmetry_statistic__lag_2  \\\n",
       "id                                                               \n",
       "9-B-3-L1-6                                       2.657345e+06    \n",
       "\n",
       "variable    colum_id__time_reversal_asymmetry_statistic__lag_3  \\\n",
       "id                                                               \n",
       "9-B-3-L1-6                                          3982038.0    \n",
       "\n",
       "variable    colum_id__value_count__value_-inf  colum_id__value_count__value_0  \\\n",
       "id                                                                              \n",
       "9-B-3-L1-6                                0.0                             1.0   \n",
       "\n",
       "variable    colum_id__value_count__value_1  colum_id__value_count__value_inf  \\\n",
       "id                                                                             \n",
       "9-B-3-L1-6                             1.0                               0.0   \n",
       "\n",
       "variable    colum_id__value_count__value_nan  colum_id__variance  \\\n",
       "id                                                                 \n",
       "9-B-3-L1-6                               0.0            83333.25   \n",
       "\n",
       "variable    colum_id__variance_larger_than_standard_deviation  \n",
       "id                                                             \n",
       "9-B-3-L1-6                                                1.0  \n",
       "\n",
       "[1 rows x 2364 columns]"
      ]
     },
     "execution_count": 22,
     "metadata": {},
     "output_type": "execute_result"
    }
   ],
   "source": [
    "extracted_features"
   ]
  },
  {
   "cell_type": "code",
   "execution_count": 36,
   "metadata": {},
   "outputs": [
    {
     "name": "stderr",
     "output_type": "stream",
     "text": [
      "\n",
      "Feature Extraction:   0%|                             | 0/3000 [00:00<?, ?it/s]"
     ]
    },
    {
     "ename": "ZeroDivisionError",
     "evalue": "float division by zero",
     "output_type": "error",
     "traceback": [
      "\u001b[1;31m---------------------------------------------------------------------------\u001b[0m",
      "\u001b[1;31mRemoteTraceback\u001b[0m                           Traceback (most recent call last)",
      "\u001b[1;31mRemoteTraceback\u001b[0m: \n\"\"\"\nTraceback (most recent call last):\n  File \"C:\\Users\\gurunath.lv\\AppData\\Local\\Continuum\\Anaconda3\\lib\\multiprocessing\\pool.py\", line 119, in worker\n    result = (True, func(*args, **kwds))\n  File \"C:\\Users\\gurunath.lv\\AppData\\Local\\Continuum\\Anaconda3\\lib\\multiprocessing\\pool.py\", line 44, in mapstar\n    return list(map(*args))\n  File \"C:\\Users\\gurunath.lv\\AppData\\Local\\Continuum\\Anaconda3\\lib\\site-packages\\tsfresh\\feature_extraction\\extraction.py\", line 296, in _do_extraction_on_chunk\n    return list(_f())\n  File \"C:\\Users\\gurunath.lv\\AppData\\Local\\Continuum\\Anaconda3\\lib\\site-packages\\tsfresh\\feature_extraction\\extraction.py\", line 290, in _f\n    for key, item in result:\n  File \"C:\\Users\\gurunath.lv\\AppData\\Local\\Continuum\\Anaconda3\\lib\\site-packages\\tsfresh\\feature_extraction\\extraction.py\", line 286, in <genexpr>\n    result = ((convert_to_output_format(param), func(data, **param)) for param in parameter_list)\n  File \"C:\\Users\\gurunath.lv\\AppData\\Local\\Continuum\\Anaconda3\\lib\\site-packages\\tsfresh\\feature_extraction\\feature_calculators.py\", line 1322, in autocorrelation\n    return sum_product / ((len(x) - lag) * np.var(x))\nZeroDivisionError: float division by zero\n\"\"\"",
      "\nThe above exception was the direct cause of the following exception:\n",
      "\u001b[1;31mZeroDivisionError\u001b[0m                         Traceback (most recent call last)",
      "\u001b[1;32m<ipython-input-36-bd97f5986e0a>\u001b[0m in \u001b[0;36m<module>\u001b[1;34m()\u001b[0m\n\u001b[0;32m      1\u001b[0m \u001b[1;32mfrom\u001b[0m \u001b[0mtsfresh\u001b[0m \u001b[1;32mimport\u001b[0m \u001b[0mextract_features\u001b[0m\u001b[1;33m\u001b[0m\u001b[0m\n\u001b[1;32m----> 2\u001b[1;33m \u001b[0mextracted_features\u001b[0m \u001b[1;33m=\u001b[0m \u001b[0mextract_features\u001b[0m\u001b[1;33m(\u001b[0m\u001b[0msamplets\u001b[0m\u001b[1;33m,\u001b[0m \u001b[0mcolumn_id\u001b[0m\u001b[1;33m=\u001b[0m\u001b[1;34m'performance_metrics.ts'\u001b[0m\u001b[1;33m)\u001b[0m\u001b[1;33m\u001b[0m\u001b[0m\n\u001b[0m",
      "\u001b[1;32mC:\\Users\\gurunath.lv\\AppData\\Local\\Continuum\\Anaconda3\\lib\\site-packages\\tsfresh\\feature_extraction\\extraction.py\u001b[0m in \u001b[0;36mextract_features\u001b[1;34m(timeseries_container, default_fc_parameters, kind_to_fc_parameters, column_id, column_sort, column_kind, column_value, chunksize, n_jobs, show_warnings, disable_progressbar, impute_function, profile, profiling_filename, profiling_sorting)\u001b[0m\n\u001b[0;32m    145\u001b[0m                                 \u001b[0mn_jobs\u001b[0m\u001b[1;33m=\u001b[0m\u001b[0mn_jobs\u001b[0m\u001b[1;33m,\u001b[0m \u001b[0mchunksize\u001b[0m\u001b[1;33m=\u001b[0m\u001b[0mchunksize\u001b[0m\u001b[1;33m,\u001b[0m\u001b[1;33m\u001b[0m\u001b[0m\n\u001b[0;32m    146\u001b[0m                                 \u001b[0mdisable_progressbar\u001b[0m\u001b[1;33m=\u001b[0m\u001b[0mdisable_progressbar\u001b[0m\u001b[1;33m,\u001b[0m\u001b[1;33m\u001b[0m\u001b[0m\n\u001b[1;32m--> 147\u001b[1;33m                                 default_fc_parameters=default_fc_parameters, kind_to_fc_parameters=kind_to_fc_parameters)\n\u001b[0m\u001b[0;32m    148\u001b[0m \u001b[1;33m\u001b[0m\u001b[0m\n\u001b[0;32m    149\u001b[0m         \u001b[1;31m# Impute the result if requested\u001b[0m\u001b[1;33m\u001b[0m\u001b[1;33m\u001b[0m\u001b[0m\n",
      "\u001b[1;32mC:\\Users\\gurunath.lv\\AppData\\Local\\Continuum\\Anaconda3\\lib\\site-packages\\tsfresh\\feature_extraction\\extraction.py\u001b[0m in \u001b[0;36m_do_extraction\u001b[1;34m(df, column_id, column_value, column_kind, default_fc_parameters, kind_to_fc_parameters, n_jobs, chunksize, disable_progressbar)\u001b[0m\n\u001b[0;32m    233\u001b[0m \u001b[1;33m\u001b[0m\u001b[0m\n\u001b[0;32m    234\u001b[0m     \u001b[1;31m# Return a dataframe in the typical form (id as index and feature names as columns)\u001b[0m\u001b[1;33m\u001b[0m\u001b[1;33m\u001b[0m\u001b[0m\n\u001b[1;32m--> 235\u001b[1;33m     \u001b[0mresult\u001b[0m \u001b[1;33m=\u001b[0m \u001b[0mpd\u001b[0m\u001b[1;33m.\u001b[0m\u001b[0mDataFrame\u001b[0m\u001b[1;33m(\u001b[0m\u001b[0mlist\u001b[0m\u001b[1;33m(\u001b[0m\u001b[0mresult\u001b[0m\u001b[1;33m)\u001b[0m\u001b[1;33m,\u001b[0m \u001b[0mdtype\u001b[0m\u001b[1;33m=\u001b[0m\u001b[0mnp\u001b[0m\u001b[1;33m.\u001b[0m\u001b[0mfloat\u001b[0m\u001b[1;33m)\u001b[0m\u001b[1;33m\u001b[0m\u001b[0m\n\u001b[0m\u001b[0;32m    236\u001b[0m \u001b[1;33m\u001b[0m\u001b[0m\n\u001b[0;32m    237\u001b[0m     \u001b[1;32mif\u001b[0m \u001b[0mlen\u001b[0m\u001b[1;33m(\u001b[0m\u001b[0mresult\u001b[0m\u001b[1;33m)\u001b[0m \u001b[1;33m!=\u001b[0m \u001b[1;36m0\u001b[0m\u001b[1;33m:\u001b[0m\u001b[1;33m\u001b[0m\u001b[0m\n",
      "\u001b[1;32mC:\\Users\\gurunath.lv\\AppData\\Local\\Continuum\\Anaconda3\\lib\\site-packages\\tqdm\\_tqdm.py\u001b[0m in \u001b[0;36m__iter__\u001b[1;34m(self)\u001b[0m\n\u001b[0;32m    895\u001b[0m \"\"\", fp_write=getattr(self.fp, 'write', sys.stderr.write))\n\u001b[0;32m    896\u001b[0m \u001b[1;33m\u001b[0m\u001b[0m\n\u001b[1;32m--> 897\u001b[1;33m             \u001b[1;32mfor\u001b[0m \u001b[0mobj\u001b[0m \u001b[1;32min\u001b[0m \u001b[0miterable\u001b[0m\u001b[1;33m:\u001b[0m\u001b[1;33m\u001b[0m\u001b[0m\n\u001b[0m\u001b[0;32m    898\u001b[0m                 \u001b[1;32myield\u001b[0m \u001b[0mobj\u001b[0m\u001b[1;33m\u001b[0m\u001b[0m\n\u001b[0;32m    899\u001b[0m                 \u001b[1;31m# Update and possibly print the progressbar.\u001b[0m\u001b[1;33m\u001b[0m\u001b[1;33m\u001b[0m\u001b[0m\n",
      "\u001b[1;32mC:\\Users\\gurunath.lv\\AppData\\Local\\Continuum\\Anaconda3\\lib\\multiprocessing\\pool.py\u001b[0m in \u001b[0;36m<genexpr>\u001b[1;34m(.0)\u001b[0m\n\u001b[0;32m    312\u001b[0m             self._taskqueue.put((((result._job, i, mapstar, (x,), {})\n\u001b[0;32m    313\u001b[0m                      for i, x in enumerate(task_batches)), result._set_length))\n\u001b[1;32m--> 314\u001b[1;33m             \u001b[1;32mreturn\u001b[0m \u001b[1;33m(\u001b[0m\u001b[0mitem\u001b[0m \u001b[1;32mfor\u001b[0m \u001b[0mchunk\u001b[0m \u001b[1;32min\u001b[0m \u001b[0mresult\u001b[0m \u001b[1;32mfor\u001b[0m \u001b[0mitem\u001b[0m \u001b[1;32min\u001b[0m \u001b[0mchunk\u001b[0m\u001b[1;33m)\u001b[0m\u001b[1;33m\u001b[0m\u001b[0m\n\u001b[0m\u001b[0;32m    315\u001b[0m \u001b[1;33m\u001b[0m\u001b[0m\n\u001b[0;32m    316\u001b[0m     def apply_async(self, func, args=(), kwds={}, callback=None,\n",
      "\u001b[1;32mC:\\Users\\gurunath.lv\\AppData\\Local\\Continuum\\Anaconda3\\lib\\multiprocessing\\pool.py\u001b[0m in \u001b[0;36mnext\u001b[1;34m(self, timeout)\u001b[0m\n\u001b[0;32m    697\u001b[0m         \u001b[1;32mif\u001b[0m \u001b[0msuccess\u001b[0m\u001b[1;33m:\u001b[0m\u001b[1;33m\u001b[0m\u001b[0m\n\u001b[0;32m    698\u001b[0m             \u001b[1;32mreturn\u001b[0m \u001b[0mvalue\u001b[0m\u001b[1;33m\u001b[0m\u001b[0m\n\u001b[1;32m--> 699\u001b[1;33m         \u001b[1;32mraise\u001b[0m \u001b[0mvalue\u001b[0m\u001b[1;33m\u001b[0m\u001b[0m\n\u001b[0m\u001b[0;32m    700\u001b[0m \u001b[1;33m\u001b[0m\u001b[0m\n\u001b[0;32m    701\u001b[0m     \u001b[0m__next__\u001b[0m \u001b[1;33m=\u001b[0m \u001b[0mnext\u001b[0m                    \u001b[1;31m# XXX\u001b[0m\u001b[1;33m\u001b[0m\u001b[0m\n",
      "\u001b[1;31mZeroDivisionError\u001b[0m: float division by zero"
     ]
    }
   ],
   "source": [
    "from tsfresh import extract_features\n",
    "extracted_features = extract_features(samplets, column_id='')"
   ]
  }
 ],
 "metadata": {
  "kernelspec": {
   "display_name": "Python 3",
   "language": "python",
   "name": "python3"
  },
  "language_info": {
   "codemirror_mode": {
    "name": "ipython",
    "version": 3
   },
   "file_extension": ".py",
   "mimetype": "text/x-python",
   "name": "python",
   "nbconvert_exporter": "python",
   "pygments_lexer": "ipython3",
   "version": "3.6.0"
  }
 },
 "nbformat": 4,
 "nbformat_minor": 2
}
