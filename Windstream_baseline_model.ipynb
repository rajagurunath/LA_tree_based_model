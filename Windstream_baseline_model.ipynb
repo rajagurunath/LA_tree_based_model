{
 "cells": [
  {
   "cell_type": "markdown",
   "metadata": {
    "slideshow": {
     "slide_type": "slide"
    }
   },
   "source": [
    "![](https://upload.wikimedia.org/wikipedia/en/thumb/7/7f/Windstream_Communications.svg/1200px-Windstream_Communications.svg.png)"
   ]
  },
  {
   "cell_type": "markdown",
   "metadata": {
    "slideshow": {
     "slide_type": "slide"
    }
   },
   "source": [
    "# Windstream Baseline model -Approaches \n",
    "\n",
    "- Device Grouping\n",
    "- Forecasting\n",
    "- Anomaly Detection\n",
    "- Doubts regarding the software stack"
   ]
  },
  {
   "cell_type": "markdown",
   "metadata": {
    "slideshow": {
     "slide_type": "slide"
    }
   },
   "source": [
    "# Device Grouping \n",
    "\n",
    "current Approach:\n",
    "- Based on the device Performance metrics ,Clustering like approach was made to group similar kind of devices\n",
    "\n",
    "    "
   ]
  },
  {
   "cell_type": "markdown",
   "metadata": {
    "slideshow": {
     "slide_type": "subslide"
    }
   },
   "source": [
    "Another Approach:\n",
    "- Make Device Embeddings using Performance Metrics \n",
    "- Use this Embeddings for Device Grouping using Clustering methods"
   ]
  },
  {
   "cell_type": "markdown",
   "metadata": {
    "slideshow": {
     "slide_type": "slide"
    }
   },
   "source": [
    "# What is Embeddings ??\n",
    "![](http://colah.github.io/posts/2014-07-NLP-RNNs-Representations/img/Socher-ImageClassManifold.png)"
   ]
  },
  {
   "cell_type": "markdown",
   "metadata": {
    "slideshow": {
     "slide_type": "slide"
    }
   },
   "source": [
    "# How to make this type of Embeddings for our Devices !"
   ]
  },
  {
   "cell_type": "markdown",
   "metadata": {
    "slideshow": {
     "slide_type": "subslide"
    }
   },
   "source": [
    "# Making of Embedings at high level\n",
    "- Construct the Neural Network Architecture \n",
    "- map each device (category) into random set of normalized numbers\n",
    "- Train the Network by giving this random number as input ,\n",
    "- Update the Random numbers while training via Network Gradient Update \n",
    "\n",
    "\n",
    "- !!! Eventually this Random numbers turned into an Meaningful Representation which represents our devices "
   ]
  },
  {
   "cell_type": "markdown",
   "metadata": {
    "slideshow": {
     "slide_type": "subslide"
    }
   },
   "source": [
    "# Tensorboard Visualization Example\n",
    "- http://192.168.40.59:6006/#scalars&run=.&_smoothingWeight=0.25"
   ]
  },
  {
   "cell_type": "markdown",
   "metadata": {
    "slideshow": {
     "slide_type": "slide"
    }
   },
   "source": [
    "# Forecasting \n",
    "\n",
    "Current Approachs Tried:\n",
    "- ARIMA forecasting (current working technique)\n",
    "- LSTM forecasting \n",
    "- Random Forest Forecasting \n"
   ]
  },
  {
   "cell_type": "markdown",
   "metadata": {
    "slideshow": {
     "slide_type": "slide"
    }
   },
   "source": [
    "# ARIMA \n",
    "- Other Time series Prediction models using PyFlux "
   ]
  },
  {
   "cell_type": "markdown",
   "metadata": {
    "slideshow": {
     "slide_type": "slide"
    }
   },
   "source": [
    "# LSTM Forcasting\n",
    "- Fine Tunning may help\n",
    "- Trying different Network may help\n",
    "- Using Bayesian Deep learning frameworks (PYRO(Pytorch) ,Edward (Tensorflow))\n",
    "    - Bayesian DL will give Confidence interval for the forecastor in natural way \n",
    "    - Anomaly Detection can also be tried with this Techniques\n"
   ]
  },
  {
   "cell_type": "markdown",
   "metadata": {
    "slideshow": {
     "slide_type": "slide"
    }
   },
   "source": [
    "# Ambitious Goal was to implement Reinforcement learning !\n",
    "## Benefits \n",
    "- contionous Learning untill the Data was available from Network devices (*Life Long Learning*)\n",
    "- Giving rewards when the anomaly was identified correctly \n",
    "- Giving punishment when it missed critical alerts !"
   ]
  },
  {
   "cell_type": "markdown",
   "metadata": {
    "slideshow": {
     "slide_type": "slide"
    }
   },
   "source": [
    "# Random Forest Forecasting \n",
    "- Not that good for real time time series forecasting (More data engineering required to prepare features)"
   ]
  },
  {
   "cell_type": "markdown",
   "metadata": {
    "slideshow": {
     "slide_type": "slide"
    }
   },
   "source": [
    "# Anomaly Detection"
   ]
  },
  {
   "cell_type": "markdown",
   "metadata": {
    "slideshow": {
     "slide_type": "slide"
    }
   },
   "source": [
    "- ## Use Packages such as Tsfresh to Generate Additional features and  use this for Anomaly Detection\n",
    "- https://tsfresh.readthedocs.io/en/latest/text/list_of_features.html"
   ]
  },
  {
   "cell_type": "markdown",
   "metadata": {
    "slideshow": {
     "slide_type": "slide"
    }
   },
   "source": [
    "Other Tried Approaches:\n",
    "- https://github.com/MentatInnovations/datastream.io (Not working)"
   ]
  },
  {
   "cell_type": "markdown",
   "metadata": {
    "slideshow": {
     "slide_type": "slide"
    }
   },
   "source": [
    "# Doubts\n"
   ]
  },
  {
   "cell_type": "markdown",
   "metadata": {
    "slideshow": {
     "slide_type": "slide"
    }
   },
   "source": [
    "# Tony (Linkedin)\n",
    "- https://github.com/linkedin/TonY\n",
    "- https://github.com/linkedin/TonY/tree/master/tony-examples/mnist-pytorch\n",
    "\n",
    "\n",
    "# Blog\n",
    "https://engineering.linkedin.com/blog/2018/09/open-sourcing-tony--native-support-of-tensorflow-on-hadoop"
   ]
  },
  {
   "cell_type": "markdown",
   "metadata": {
    "slideshow": {
     "slide_type": "slide"
    }
   },
   "source": [
    "\n",
    "# Skyline\n",
    "- Is this feasible to implement this Sotware stack used in this Anomaly Detection Framework\n",
    "- https://earthgecko-skyline.readthedocs.io/en/latest/overview.html\n",
    "- (It requires Redis ,Graphite Database )\n"
   ]
  },
  {
   "cell_type": "markdown",
   "metadata": {
    "slideshow": {
     "slide_type": "slide"
    }
   },
   "source": [
    "![](https://earthgecko-skyline.readthedocs.io/en/latest/_images/skyline.simplified.workflow.annotated.gif)"
   ]
  }
 ],
 "metadata": {
  "celltoolbar": "Slideshow",
  "kernelspec": {
   "display_name": "Python 3",
   "language": "python",
   "name": "python3"
  },
  "language_info": {
   "codemirror_mode": {
    "name": "ipython",
    "version": 3
   },
   "file_extension": ".py",
   "mimetype": "text/x-python",
   "name": "python",
   "nbconvert_exporter": "python",
   "pygments_lexer": "ipython3",
   "version": "3.6.0"
  }
 },
 "nbformat": 4,
 "nbformat_minor": 2
}
