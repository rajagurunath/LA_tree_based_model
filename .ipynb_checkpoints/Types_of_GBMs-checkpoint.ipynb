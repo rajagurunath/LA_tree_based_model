{
 "cells": [
  {
   "cell_type": "markdown",
   "metadata": {
    "slideshow": {
     "slide_type": "slide"
    }
   },
   "source": [
    "# Variants of Gradient Boosting "
   ]
  },
  {
   "cell_type": "markdown",
   "metadata": {
    "slideshow": {
     "slide_type": "slide"
    }
   },
   "source": [
    "# *LightGBM*\n",
    "# *Catboost*\n",
    "# *XGBoost *\n"
   ]
  },
  {
   "cell_type": "markdown",
   "metadata": {
    "slideshow": {
     "slide_type": "slide"
    }
   },
   "source": [
    "# Types of finding the best split \n",
    "\n",
    "## Think about Big O notations !!!\n"
   ]
  },
  {
   "cell_type": "markdown",
   "metadata": {
    "slideshow": {
     "slide_type": "slide"
    }
   },
   "source": [
    "# Approach 1- Presort Algorithms\n",
    "## O(n(Features)*n(No of data points))\n",
    "## Traditional Implementations found in Sklearn  ,also used in Xgboost\n"
   ]
  },
  {
   "cell_type": "markdown",
   "metadata": {
    "slideshow": {
     "slide_type": "slide"
    }
   },
   "source": [
    "# How to reduce this Time complexity in this algorithm when we are using Big datasets"
   ]
  },
  {
   "cell_type": "markdown",
   "metadata": {
    "slideshow": {
     "slide_type": "subslide"
    }
   },
   "source": [
    "![diff](https://i0.wp.com/mlexplained.com/wp-content/uploads/2018/01/DecisionTrees_3_thumb.png?w=1024)"
   ]
  },
  {
   "cell_type": "markdown",
   "metadata": {
    "slideshow": {
     "slide_type": "slide"
    }
   },
   "source": [
    "# Approach 2 -Histogram Based Algorithms \n",
    "\n",
    "## IDEA 1\n",
    "\n",
    "## Use the Histograms to find the Bins for each feature \n",
    "## Use this bins to find the best split (This is supported by the fact that the Spliting on real value or bins does't cost much difference in accuracy)\n",
    "\n",
    "### Note : USing bins may also prevents from Overfiting "
   ]
  },
  {
   "cell_type": "markdown",
   "metadata": {
    "slideshow": {
     "slide_type": "subslide"
    }
   },
   "source": [
    "![histogram](https://i2.wp.com/mlexplained.com/wp-content/uploads/2018/01/binned_split_gbdt.png?resize=300%2C260)"
   ]
  },
  {
   "cell_type": "markdown",
   "metadata": {
    "slideshow": {
     "slide_type": "slide"
    }
   },
   "source": [
    "# Apprach 3-Gradient Based Strategy\n",
    "## IDEA 2\n",
    "\n",
    "## Use Gradients to find the best split !!!\n",
    "\n"
   ]
  },
  {
   "cell_type": "markdown",
   "metadata": {
    "slideshow": {
     "slide_type": "slide"
    }
   },
   "source": [
    "## But How ??\n",
    "\n",
    "### What does the Large gradients and Small gradients with respect ro the Loss function tries to tell you?\n",
    "\n",
    "## Gradient-based One-Side Sampling (GOSS)"
   ]
  },
  {
   "cell_type": "markdown",
   "metadata": {
    "slideshow": {
     "slide_type": "slide"
    }
   },
   "source": [
    "# Taking Sparsity of the data as advantage\n",
    "\n",
    "## Ignoring sparse inputs (xgboost and lightGBM)\n",
    "### Xgboost proposes to ignore the 0 features when computing the split, then allocating all the data with missing values to whichever side of the split reduces the loss more. This reduces the number of samples that have to be used when evaluating each split, speeding up the training process.\n",
    "![](https://i2.wp.com/mlexplained.com/wp-content/uploads/2018/01/sparse_split_gbdt.png?resize=300%2C268)"
   ]
  },
  {
   "cell_type": "markdown",
   "metadata": {
    "slideshow": {
     "slide_type": "slide"
    }
   },
   "source": [
    "![goss_exp](IMG/goss_exp.PNG)"
   ]
  },
  {
   "cell_type": "markdown",
   "metadata": {
    "slideshow": {
     "slide_type": "slide"
    }
   },
   "source": [
    "## Approach 4 -Exclusive Feature Bundling (lightGBM)\n",
    "### * some features are never non-zero together"
   ]
  },
  {
   "cell_type": "code",
   "execution_count": 3,
   "metadata": {},
   "outputs": [
    {
     "data": {
      "text/html": [
       "<div>\n",
       "<style>\n",
       "    .dataframe thead tr:only-child th {\n",
       "        text-align: right;\n",
       "    }\n",
       "\n",
       "    .dataframe thead th {\n",
       "        text-align: left;\n",
       "    }\n",
       "\n",
       "    .dataframe tbody tr th {\n",
       "        vertical-align: top;\n",
       "    }\n",
       "</style>\n",
       "<table border=\"1\" class=\"dataframe\">\n",
       "  <thead>\n",
       "    <tr style=\"text-align: right;\">\n",
       "      <th></th>\n",
       "      <th>CRIM</th>\n",
       "      <th>ZN</th>\n",
       "      <th>INDUS</th>\n",
       "      <th>CHAS</th>\n",
       "      <th>NOX</th>\n",
       "      <th>RM</th>\n",
       "      <th>AGE</th>\n",
       "      <th>DIS</th>\n",
       "      <th>RAD</th>\n",
       "      <th>TAX</th>\n",
       "      <th>PTRATIO</th>\n",
       "      <th>B</th>\n",
       "      <th>LSTAT</th>\n",
       "    </tr>\n",
       "  </thead>\n",
       "  <tbody>\n",
       "    <tr>\n",
       "      <th>0</th>\n",
       "      <td>0.00632</td>\n",
       "      <td>18.0</td>\n",
       "      <td>2.31</td>\n",
       "      <td>0.0</td>\n",
       "      <td>0.538</td>\n",
       "      <td>6.575</td>\n",
       "      <td>65.2</td>\n",
       "      <td>4.0900</td>\n",
       "      <td>1.0</td>\n",
       "      <td>296.0</td>\n",
       "      <td>15.3</td>\n",
       "      <td>396.90</td>\n",
       "      <td>4.98</td>\n",
       "    </tr>\n",
       "    <tr>\n",
       "      <th>1</th>\n",
       "      <td>0.02731</td>\n",
       "      <td>0.0</td>\n",
       "      <td>7.07</td>\n",
       "      <td>0.0</td>\n",
       "      <td>0.469</td>\n",
       "      <td>6.421</td>\n",
       "      <td>78.9</td>\n",
       "      <td>4.9671</td>\n",
       "      <td>2.0</td>\n",
       "      <td>242.0</td>\n",
       "      <td>17.8</td>\n",
       "      <td>396.90</td>\n",
       "      <td>9.14</td>\n",
       "    </tr>\n",
       "    <tr>\n",
       "      <th>2</th>\n",
       "      <td>0.02729</td>\n",
       "      <td>0.0</td>\n",
       "      <td>7.07</td>\n",
       "      <td>0.0</td>\n",
       "      <td>0.469</td>\n",
       "      <td>7.185</td>\n",
       "      <td>61.1</td>\n",
       "      <td>4.9671</td>\n",
       "      <td>2.0</td>\n",
       "      <td>242.0</td>\n",
       "      <td>17.8</td>\n",
       "      <td>392.83</td>\n",
       "      <td>4.03</td>\n",
       "    </tr>\n",
       "    <tr>\n",
       "      <th>3</th>\n",
       "      <td>0.03237</td>\n",
       "      <td>0.0</td>\n",
       "      <td>2.18</td>\n",
       "      <td>0.0</td>\n",
       "      <td>0.458</td>\n",
       "      <td>6.998</td>\n",
       "      <td>45.8</td>\n",
       "      <td>6.0622</td>\n",
       "      <td>3.0</td>\n",
       "      <td>222.0</td>\n",
       "      <td>18.7</td>\n",
       "      <td>394.63</td>\n",
       "      <td>2.94</td>\n",
       "    </tr>\n",
       "    <tr>\n",
       "      <th>4</th>\n",
       "      <td>0.06905</td>\n",
       "      <td>0.0</td>\n",
       "      <td>2.18</td>\n",
       "      <td>0.0</td>\n",
       "      <td>0.458</td>\n",
       "      <td>7.147</td>\n",
       "      <td>54.2</td>\n",
       "      <td>6.0622</td>\n",
       "      <td>3.0</td>\n",
       "      <td>222.0</td>\n",
       "      <td>18.7</td>\n",
       "      <td>396.90</td>\n",
       "      <td>5.33</td>\n",
       "    </tr>\n",
       "    <tr>\n",
       "      <th>5</th>\n",
       "      <td>0.02985</td>\n",
       "      <td>0.0</td>\n",
       "      <td>2.18</td>\n",
       "      <td>0.0</td>\n",
       "      <td>0.458</td>\n",
       "      <td>6.430</td>\n",
       "      <td>58.7</td>\n",
       "      <td>6.0622</td>\n",
       "      <td>3.0</td>\n",
       "      <td>222.0</td>\n",
       "      <td>18.7</td>\n",
       "      <td>394.12</td>\n",
       "      <td>5.21</td>\n",
       "    </tr>\n",
       "    <tr>\n",
       "      <th>6</th>\n",
       "      <td>0.08829</td>\n",
       "      <td>12.5</td>\n",
       "      <td>7.87</td>\n",
       "      <td>0.0</td>\n",
       "      <td>0.524</td>\n",
       "      <td>6.012</td>\n",
       "      <td>66.6</td>\n",
       "      <td>5.5605</td>\n",
       "      <td>5.0</td>\n",
       "      <td>311.0</td>\n",
       "      <td>15.2</td>\n",
       "      <td>395.60</td>\n",
       "      <td>12.43</td>\n",
       "    </tr>\n",
       "    <tr>\n",
       "      <th>7</th>\n",
       "      <td>0.14455</td>\n",
       "      <td>12.5</td>\n",
       "      <td>7.87</td>\n",
       "      <td>0.0</td>\n",
       "      <td>0.524</td>\n",
       "      <td>6.172</td>\n",
       "      <td>96.1</td>\n",
       "      <td>5.9505</td>\n",
       "      <td>5.0</td>\n",
       "      <td>311.0</td>\n",
       "      <td>15.2</td>\n",
       "      <td>396.90</td>\n",
       "      <td>19.15</td>\n",
       "    </tr>\n",
       "    <tr>\n",
       "      <th>8</th>\n",
       "      <td>0.21124</td>\n",
       "      <td>12.5</td>\n",
       "      <td>7.87</td>\n",
       "      <td>0.0</td>\n",
       "      <td>0.524</td>\n",
       "      <td>5.631</td>\n",
       "      <td>100.0</td>\n",
       "      <td>6.0821</td>\n",
       "      <td>5.0</td>\n",
       "      <td>311.0</td>\n",
       "      <td>15.2</td>\n",
       "      <td>386.63</td>\n",
       "      <td>29.93</td>\n",
       "    </tr>\n",
       "    <tr>\n",
       "      <th>9</th>\n",
       "      <td>0.17004</td>\n",
       "      <td>12.5</td>\n",
       "      <td>7.87</td>\n",
       "      <td>0.0</td>\n",
       "      <td>0.524</td>\n",
       "      <td>6.004</td>\n",
       "      <td>85.9</td>\n",
       "      <td>6.5921</td>\n",
       "      <td>5.0</td>\n",
       "      <td>311.0</td>\n",
       "      <td>15.2</td>\n",
       "      <td>386.71</td>\n",
       "      <td>17.10</td>\n",
       "    </tr>\n",
       "  </tbody>\n",
       "</table>\n",
       "</div>"
      ],
      "text/plain": [
       "      CRIM    ZN  INDUS  CHAS    NOX     RM    AGE     DIS  RAD    TAX  \\\n",
       "0  0.00632  18.0   2.31   0.0  0.538  6.575   65.2  4.0900  1.0  296.0   \n",
       "1  0.02731   0.0   7.07   0.0  0.469  6.421   78.9  4.9671  2.0  242.0   \n",
       "2  0.02729   0.0   7.07   0.0  0.469  7.185   61.1  4.9671  2.0  242.0   \n",
       "3  0.03237   0.0   2.18   0.0  0.458  6.998   45.8  6.0622  3.0  222.0   \n",
       "4  0.06905   0.0   2.18   0.0  0.458  7.147   54.2  6.0622  3.0  222.0   \n",
       "5  0.02985   0.0   2.18   0.0  0.458  6.430   58.7  6.0622  3.0  222.0   \n",
       "6  0.08829  12.5   7.87   0.0  0.524  6.012   66.6  5.5605  5.0  311.0   \n",
       "7  0.14455  12.5   7.87   0.0  0.524  6.172   96.1  5.9505  5.0  311.0   \n",
       "8  0.21124  12.5   7.87   0.0  0.524  5.631  100.0  6.0821  5.0  311.0   \n",
       "9  0.17004  12.5   7.87   0.0  0.524  6.004   85.9  6.5921  5.0  311.0   \n",
       "\n",
       "   PTRATIO       B  LSTAT  \n",
       "0     15.3  396.90   4.98  \n",
       "1     17.8  396.90   9.14  \n",
       "2     17.8  392.83   4.03  \n",
       "3     18.7  394.63   2.94  \n",
       "4     18.7  396.90   5.33  \n",
       "5     18.7  394.12   5.21  \n",
       "6     15.2  395.60  12.43  \n",
       "7     15.2  396.90  19.15  \n",
       "8     15.2  386.63  29.93  \n",
       "9     15.2  386.71  17.10  "
      ]
     },
     "execution_count": 3,
     "metadata": {},
     "output_type": "execute_result"
    }
   ],
   "source": [
    "from sklearn.ensemble import GradientBoostingClassifier,GradientBoostingRegressor\n",
    "from sklearn.datasets import load_boston,load_wine\n",
    "import pandas as pd\n",
    "from sklearn.model_selection import train_test_split\n",
    "import matplotlib.pyplot as plt\n",
    "from sklearn import metrics\n",
    "import math\n",
    "import numpy as np\n",
    "\n",
    "def rmse(x,y): return math.sqrt(((x-y)**2).mean())\n",
    "\n",
    "def print_score(m):\n",
    "    res = [rmse(m.predict(X_train), y_train), rmse(m.predict(X_test), y_test),\n",
    "                m.score(X_train, y_train), m.score(X_test, y_test)]\n",
    "    if hasattr(m, 'oob_score_'): res.append(m.oob_score_)\n",
    "    print(res)\n",
    "house_price=load_boston(return_X_y=False)\n",
    "#house_price['data']\n",
    "#house_price['feature_names']\n",
    "#house_price['target']\n",
    "X_df=pd.DataFrame(data=house_price['data'],columns=house_price['feature_names'])\n",
    "y=house_price['target']\n",
    "X_df.head(10)"
   ]
  },
  {
   "cell_type": "code",
   "execution_count": 12,
   "metadata": {},
   "outputs": [
    {
     "data": {
      "text/plain": [
       "CRIM       504\n",
       "ZN          26\n",
       "INDUS       76\n",
       "CHAS         2\n",
       "NOX         81\n",
       "RM         446\n",
       "AGE        356\n",
       "DIS        412\n",
       "RAD          9\n",
       "TAX         66\n",
       "PTRATIO     46\n",
       "B          357\n",
       "LSTAT      455\n",
       "dtype: int64"
      ]
     },
     "execution_count": 12,
     "metadata": {},
     "output_type": "execute_result"
    }
   ],
   "source": [
    "X_df.nunique()"
   ]
  },
  {
   "cell_type": "markdown",
   "metadata": {},
   "source": [
    "# Catboost DEMO"
   ]
  },
  {
   "cell_type": "code",
   "execution_count": 46,
   "metadata": {
    "slideshow": {
     "slide_type": "skip"
    }
   },
   "outputs": [
    {
     "name": "stdout",
     "output_type": "stream",
     "text": [
      "0:\tlearn: 8.7528856\ttotal: 7.91ms\tremaining: 783ms\n",
      "1:\tlearn: 6.3242494\ttotal: 14.6ms\tremaining: 716ms\n",
      "2:\tlearn: 5.6898482\ttotal: 21ms\tremaining: 679ms\n",
      "3:\tlearn: 4.9626887\ttotal: 27.3ms\tremaining: 655ms\n",
      "4:\tlearn: 4.9013728\ttotal: 33.6ms\tremaining: 638ms\n",
      "5:\tlearn: 4.8939180\ttotal: 42ms\tremaining: 658ms\n",
      "6:\tlearn: 4.8771233\ttotal: 48.8ms\tremaining: 648ms\n",
      "7:\tlearn: 4.7461307\ttotal: 55.6ms\tremaining: 640ms\n",
      "8:\tlearn: 4.3942448\ttotal: 63.1ms\tremaining: 638ms\n",
      "9:\tlearn: 3.9822173\ttotal: 70.4ms\tremaining: 634ms\n",
      "10:\tlearn: 3.9521237\ttotal: 77.8ms\tremaining: 629ms\n",
      "11:\tlearn: 3.9514727\ttotal: 83.2ms\tremaining: 610ms\n",
      "12:\tlearn: 3.9001527\ttotal: 88.5ms\tremaining: 593ms\n",
      "13:\tlearn: 3.8522909\ttotal: 93.9ms\tremaining: 577ms\n",
      "14:\tlearn: 3.8520649\ttotal: 99.3ms\tremaining: 563ms\n",
      "15:\tlearn: 3.8408826\ttotal: 105ms\tremaining: 551ms\n",
      "16:\tlearn: 3.8277665\ttotal: 110ms\tremaining: 537ms\n",
      "17:\tlearn: 3.6585528\ttotal: 116ms\tremaining: 527ms\n",
      "18:\tlearn: 3.6133692\ttotal: 122ms\tremaining: 519ms\n",
      "19:\tlearn: 3.5254023\ttotal: 127ms\tremaining: 508ms\n",
      "20:\tlearn: 3.5233301\ttotal: 134ms\tremaining: 504ms\n",
      "21:\tlearn: 3.5008754\ttotal: 140ms\tremaining: 495ms\n",
      "22:\tlearn: 3.5006164\ttotal: 145ms\tremaining: 487ms\n",
      "23:\tlearn: 3.4982694\ttotal: 151ms\tremaining: 477ms\n",
      "24:\tlearn: 3.4665779\ttotal: 157ms\tremaining: 470ms\n",
      "25:\tlearn: 3.3829888\ttotal: 163ms\tremaining: 464ms\n",
      "26:\tlearn: 3.3766427\ttotal: 169ms\tremaining: 457ms\n",
      "27:\tlearn: 3.3747728\ttotal: 175ms\tremaining: 450ms\n",
      "28:\tlearn: 3.3452409\ttotal: 180ms\tremaining: 441ms\n",
      "29:\tlearn: 3.3431201\ttotal: 186ms\tremaining: 433ms\n",
      "30:\tlearn: 3.3138332\ttotal: 191ms\tremaining: 425ms\n",
      "31:\tlearn: 3.3130131\ttotal: 196ms\tremaining: 416ms\n",
      "32:\tlearn: 3.3114810\ttotal: 200ms\tremaining: 407ms\n",
      "33:\tlearn: 3.3102989\ttotal: 206ms\tremaining: 401ms\n",
      "34:\tlearn: 3.2347003\ttotal: 213ms\tremaining: 395ms\n",
      "35:\tlearn: 3.2330173\ttotal: 236ms\tremaining: 420ms\n",
      "36:\tlearn: 3.2307889\ttotal: 243ms\tremaining: 414ms\n",
      "37:\tlearn: 3.2214021\ttotal: 248ms\tremaining: 405ms\n",
      "38:\tlearn: 3.2163931\ttotal: 253ms\tremaining: 396ms\n",
      "39:\tlearn: 3.1867192\ttotal: 258ms\tremaining: 387ms\n",
      "40:\tlearn: 3.1793828\ttotal: 263ms\tremaining: 379ms\n",
      "41:\tlearn: 3.1600897\ttotal: 268ms\tremaining: 371ms\n",
      "42:\tlearn: 3.1498766\ttotal: 273ms\tremaining: 362ms\n",
      "43:\tlearn: 3.1479382\ttotal: 278ms\tremaining: 354ms\n",
      "44:\tlearn: 3.1377136\ttotal: 283ms\tremaining: 346ms\n",
      "45:\tlearn: 3.1368440\ttotal: 288ms\tremaining: 338ms\n",
      "46:\tlearn: 3.0588556\ttotal: 293ms\tremaining: 330ms\n",
      "47:\tlearn: 3.0587006\ttotal: 298ms\tremaining: 323ms\n",
      "48:\tlearn: 3.0218708\ttotal: 303ms\tremaining: 315ms\n",
      "49:\tlearn: 3.0138455\ttotal: 308ms\tremaining: 308ms\n",
      "50:\tlearn: 3.0091915\ttotal: 313ms\tremaining: 301ms\n",
      "51:\tlearn: 2.9806704\ttotal: 319ms\tremaining: 294ms\n",
      "52:\tlearn: 2.9655907\ttotal: 324ms\tremaining: 287ms\n",
      "53:\tlearn: 2.9614335\ttotal: 329ms\tremaining: 280ms\n",
      "54:\tlearn: 2.9540086\ttotal: 334ms\tremaining: 273ms\n",
      "55:\tlearn: 2.9307934\ttotal: 340ms\tremaining: 267ms\n",
      "56:\tlearn: 2.9297440\ttotal: 345ms\tremaining: 260ms\n",
      "57:\tlearn: 2.8951196\ttotal: 349ms\tremaining: 253ms\n",
      "58:\tlearn: 2.8882375\ttotal: 354ms\tremaining: 246ms\n",
      "59:\tlearn: 2.8054644\ttotal: 359ms\tremaining: 239ms\n",
      "60:\tlearn: 2.7996026\ttotal: 364ms\tremaining: 233ms\n",
      "61:\tlearn: 2.7982754\ttotal: 369ms\tremaining: 226ms\n",
      "62:\tlearn: 2.7973723\ttotal: 374ms\tremaining: 220ms\n",
      "63:\tlearn: 2.7964674\ttotal: 379ms\tremaining: 213ms\n",
      "64:\tlearn: 2.7348604\ttotal: 384ms\tremaining: 207ms\n",
      "65:\tlearn: 2.7170730\ttotal: 389ms\tremaining: 200ms\n",
      "66:\tlearn: 2.7137222\ttotal: 394ms\tremaining: 194ms\n",
      "67:\tlearn: 2.7085064\ttotal: 400ms\tremaining: 188ms\n",
      "68:\tlearn: 2.7080421\ttotal: 407ms\tremaining: 183ms\n",
      "69:\tlearn: 2.6791033\ttotal: 417ms\tremaining: 179ms\n",
      "70:\tlearn: 2.6784390\ttotal: 427ms\tremaining: 174ms\n",
      "71:\tlearn: 2.6595915\ttotal: 436ms\tremaining: 170ms\n",
      "72:\tlearn: 2.6565067\ttotal: 445ms\tremaining: 164ms\n",
      "73:\tlearn: 2.6267107\ttotal: 452ms\tremaining: 159ms\n",
      "74:\tlearn: 2.6099714\ttotal: 460ms\tremaining: 153ms\n",
      "75:\tlearn: 2.6042222\ttotal: 469ms\tremaining: 148ms\n",
      "76:\tlearn: 2.5952347\ttotal: 476ms\tremaining: 142ms\n",
      "77:\tlearn: 2.5874852\ttotal: 485ms\tremaining: 137ms\n",
      "78:\tlearn: 2.5604974\ttotal: 492ms\tremaining: 131ms\n",
      "79:\tlearn: 2.5565222\ttotal: 500ms\tremaining: 125ms\n",
      "80:\tlearn: 2.5534552\ttotal: 509ms\tremaining: 119ms\n",
      "81:\tlearn: 2.5528951\ttotal: 517ms\tremaining: 113ms\n",
      "82:\tlearn: 2.5380563\ttotal: 526ms\tremaining: 108ms\n",
      "83:\tlearn: 2.5370255\ttotal: 534ms\tremaining: 102ms\n",
      "84:\tlearn: 2.5368265\ttotal: 542ms\tremaining: 95.6ms\n",
      "85:\tlearn: 2.5221931\ttotal: 547ms\tremaining: 89.1ms\n",
      "86:\tlearn: 2.5221201\ttotal: 554ms\tremaining: 82.7ms\n",
      "87:\tlearn: 2.5113883\ttotal: 560ms\tremaining: 76.4ms\n",
      "88:\tlearn: 2.4978398\ttotal: 565ms\tremaining: 69.8ms\n",
      "89:\tlearn: 2.4892986\ttotal: 570ms\tremaining: 63.3ms\n",
      "90:\tlearn: 2.4889623\ttotal: 575ms\tremaining: 56.9ms\n",
      "91:\tlearn: 2.4877245\ttotal: 580ms\tremaining: 50.4ms\n",
      "92:\tlearn: 2.4806193\ttotal: 585ms\tremaining: 44ms\n",
      "93:\tlearn: 2.4766736\ttotal: 589ms\tremaining: 37.6ms\n",
      "94:\tlearn: 2.4765107\ttotal: 594ms\tremaining: 31.3ms\n",
      "95:\tlearn: 2.4669458\ttotal: 599ms\tremaining: 25ms\n",
      "96:\tlearn: 2.4652370\ttotal: 604ms\tremaining: 18.7ms\n",
      "97:\tlearn: 2.4572690\ttotal: 609ms\tremaining: 12.4ms\n",
      "98:\tlearn: 2.4438296\ttotal: 614ms\tremaining: 6.21ms\n",
      "99:\tlearn: 2.4427669\ttotal: 621ms\tremaining: 0us\n",
      "[11.57582533 21.59685449 10.72927186 26.2548535  27.89134142 33.92941625\n",
      " 19.81817952 20.24370069 22.36634668 28.25513031 21.66513622 17.62407763\n",
      " 24.17183711 15.4051968  39.12889028 16.49545745 24.22073515 24.16873731\n",
      " 27.27134432 16.88284985 29.79833624 23.99701242 26.21327078 34.97623354\n",
      " 18.14644259 11.1971826  16.56797367 38.70451812 20.852961   21.93177578\n",
      " 17.36761772 20.57785167 18.43444796 16.21898156 46.99532    26.83268006\n",
      " 25.78647607  9.81792078 23.83892101 39.54297239 11.78570415  5.8349779\n",
      " 15.84003267 22.86701432 25.13524247 28.36692072 18.58757888 25.22485114\n",
      " 22.99242297 49.04736551 12.65009698 21.07128095 17.34180285 19.17125111\n",
      " 14.23880819 20.61566576 20.61964425 24.71965471 44.3220899  20.14709465\n",
      " 33.90186128 23.45396744 11.76952106 22.74233596 17.73229365 23.64560422\n",
      " 42.69939106 21.06558072 20.74580476 31.99704062 15.56563423 20.76670432\n",
      " 19.52229012 18.74952961 11.39590479 35.00755648 33.74249848 19.67895448\n",
      " 15.27330887 10.67686632 16.85209151 20.48090047 18.87614458 21.26174614\n",
      " 21.87467045 23.3306182  24.20687176 20.66931655 24.08346409 17.45650463\n",
      " 18.6579036  20.03228852 15.99443861 21.5004221   9.71561049 39.47283093\n",
      " 34.16107312 11.05046432 47.37279314 26.99518324 14.59996735 18.05628504\n",
      " 18.05000924 23.09539381 20.53948935 20.66009753 20.23591654 23.67990444\n",
      " 12.19179174 22.31700637 25.55639022 26.70357865 15.30984708 26.8047602\n",
      " 21.02200165 13.28283054 17.98707549 22.94739624 17.05127121 13.18136709\n",
      " 41.81546215 21.07284364 17.8934218  27.22283187 20.56689881 17.60336067\n",
      " 28.0302136 ]\n"
     ]
    }
   ],
   "source": [
    "X_train, X_test, y_train, y_test=train_test_split(X_df,y)\n",
    "from catboost import Pool, CatBoostRegressor\n",
    "\n",
    "\n",
    "train_pool = Pool(X_train, y_train,cat_features=[3,8])\n",
    "test_pool = Pool(X_test,cat_features=[3,8]) \n",
    "\n",
    "# specify the training parameters \n",
    "model = CatBoostRegressor(iterations=100, depth=2, learning_rate=1, loss_function='RMSE')\n",
    "#train the model\n",
    "model.fit(train_pool)\n",
    "# make the prediction using the resulting model\n",
    "preds1 = model.predict(test_pool)\n",
    "print(preds1)"
   ]
  },
  {
   "cell_type": "code",
   "execution_count": 45,
   "metadata": {
    "slideshow": {
     "slide_type": "slide"
    }
   },
   "outputs": [
    {
     "data": {
      "image/png": "[encoded data removed]",
      "text/plain": [
       "<Figure size 432x288 with 1 Axes>"
      ]
     },
     "metadata": {},
     "output_type": "display_data"
    },
    {
     "data": {
      "text/plain": [
       "4.501594069582915"
      ]
     },
     "execution_count": 45,
     "metadata": {},
     "output_type": "execute_result"
    }
   ],
   "source": [
    "#pred=m.predict(X_test)\n",
    "plt.plot(y_test,label='orig')\n",
    "plt.plot(preds1,label='pred')\n",
    "plt.legend()\n",
    "plt.show()\n",
    "rmse(y_test,preds1)"
   ]
  },
  {
   "cell_type": "code",
   "execution_count": 28,
   "metadata": {
    "slideshow": {
     "slide_type": "slide"
    }
   },
   "outputs": [
    {
     "data": {
      "image/png": "[encoded data removed]",
      "text/plain": [
       "<Figure size 432x288 with 1 Axes>"
      ]
     },
     "metadata": {},
     "output_type": "display_data"
    },
    {
     "data": {
      "text/plain": [
       "5.893656062165955"
      ]
     },
     "execution_count": 28,
     "metadata": {},
     "output_type": "execute_result"
    }
   ],
   "source": [
    "#pred=m.predict(X_test)\n",
    "plt.plot(y_test,label='orig')\n",
    "plt.plot(preds,label='pred')\n",
    "plt.legend()\n",
    "plt.show()\n",
    "rmse(y_test,preds)"
   ]
  },
  {
   "cell_type": "markdown",
   "metadata": {
    "slideshow": {
     "slide_type": "slide"
    }
   },
   "source": [
    "### Reference :\n",
    "- https://blogs.technet.microsoft.com/machinelearning/2017/07/25/lessons-learned-benchmarking-fast-machine-learning-algorithms/\n",
    "- http://mlexplained.com/2018/01/05/lightgbm-and-xgboost-explained/\n",
    "- https://github.com/Microsoft/LightGBM/blob/master/docs/Features.rst\n",
    "- https://towardsdatascience.com/catboost-vs-light-gbm-vs-xgboost-5f93620723db"
   ]
  }
 ],
 "metadata": {
  "anaconda-cloud": {},
  "celltoolbar": "Slideshow",
  "kernelspec": {
   "display_name": "Python 3",
   "language": "python",
   "name": "python3"
  },
  "language_info": {
   "codemirror_mode": {
    "name": "ipython",
    "version": 3
   },
   "file_extension": ".py",
   "mimetype": "text/x-python",
   "name": "python",
   "nbconvert_exporter": "python",
   "pygments_lexer": "ipython3",
   "version": "3.6.0"
  }
 },
 "nbformat": 4,
 "nbformat_minor": 2
}
