{
 "cells": [
  {
   "cell_type": "code",
   "execution_count": null,
   "metadata": {
    "collapsed": true
   },
   "outputs": [],
   "source": [
    "import tsfresh"
   ]
  },
  {
   "cell_type": "code",
   "execution_count": null,
   "metadata": {
    "collapsed": true
   },
   "outputs": [],
   "source": [
    "import pandas as pd\n",
    "import os\n",
    "PATH=r'D:\\windstream_official\\Anomaly detection\\models\\\\'\n",
    "DATA_DIR=r'D:\\windstream_official\\Anomaly detection\\data\\processed\\\\'\n",
    "filename='ochctp_PM_full.csv'\n",
    "path=os.path.join(DATA_DIR,filename)\n"
   ]
  },
  {
   "cell_type": "code",
   "execution_count": null,
   "metadata": {
    "collapsed": true
   },
   "outputs": [],
   "source": [
    "emb_ten=pd.read_csv(r'D:\\windstream_official\\Anomaly detection\\data\\processed\\tensors.tsv',sep='\\t',header=None)"
   ]
  },
  {
   "cell_type": "code",
   "execution_count": null,
   "metadata": {
    "collapsed": true
   },
   "outputs": [],
   "source": []
  },
  {
   "cell_type": "code",
   "execution_count": 32,
   "metadata": {},
   "outputs": [
    {
     "name": "stderr",
     "output_type": "stream",
     "text": [
      "C:\\Users\\gurunath.lv\\AppData\\Local\\Continuum\\Anaconda3\\lib\\site-packages\\gensim\\utils.py:1209: UserWarning: detected Windows; aliasing chunkize to chunkize_serial\n",
      "  warnings.warn(\"detected Windows; aliasing chunkize to chunkize_serial\")\n"
     ]
    }
   ],
   "source": [
    "from gensim.models.keyedvectors import WordEmbeddingsKeyedVectors\n",
    "\n",
    "# Limit to movies with at least this many ratings in the dataset\n"
   ]
  },
  {
   "cell_type": "code",
   "execution_count": 34,
   "metadata": {
    "collapsed": true
   },
   "outputs": [],
   "source": [
    "device_name=pd.read_csv(r'D:\\windstream_official\\Anomaly detection\\data\\processed\\metadata.tsv',sep='\\t',header=None)"
   ]
  },
  {
   "cell_type": "code",
   "execution_count": 37,
   "metadata": {},
   "outputs": [
    {
     "data": {
      "text/plain": [
       "['1-A-1-L1-1',\n",
       " '1-A-1-L1-10',\n",
       " '1-A-1-L1-2',\n",
       " '1-A-1-L1-3',\n",
       " '1-A-1-L1-4',\n",
       " '1-A-1-L1-5',\n",
       " '1-A-1-L1-6',\n",
       " '1-A-1-L1-7',\n",
       " '1-A-1-L1-8',\n",
       " '1-A-1-L1-9',\n",
       " '1-A-3-L1-1',\n",
       " '1-A-3-L1-10',\n",
       " '1-A-3-L1-2',\n",
       " '1-A-3-L1-3',\n",
       " '1-A-3-L1-4',\n",
       " '1-A-3-L1-5',\n",
       " '1-A-3-L1-6',\n",
       " '1-A-3-L1-7',\n",
       " '1-A-3-L1-8',\n",
       " '1-A-3-L1-9',\n",
       " '1-A-5-L1-1',\n",
       " '1-A-5-L1-10',\n",
       " '1-A-5-L1-2',\n",
       " '1-A-5-L1-3',\n",
       " '1-A-5-L1-4',\n",
       " '1-A-5-L1-5',\n",
       " '1-A-5-L1-6',\n",
       " '1-A-5-L1-7',\n",
       " '1-A-5-L1-8',\n",
       " '1-A-5-L1-9',\n",
       " '1-B-1-L1-1',\n",
       " '1-B-1-L1-10',\n",
       " '1-B-1-L1-2',\n",
       " '1-B-1-L1-3',\n",
       " '1-B-1-L1-4',\n",
       " '1-B-1-L1-5',\n",
       " '1-B-1-L1-6',\n",
       " '1-B-1-L1-7',\n",
       " '1-B-1-L1-8',\n",
       " '1-B-1-L1-9',\n",
       " '1-B-5-L1-1',\n",
       " '1-B-5-L1-10',\n",
       " '1-B-5-L1-2',\n",
       " '1-B-5-L1-3',\n",
       " '1-B-5-L1-4',\n",
       " '1-B-5-L1-5',\n",
       " '1-B-5-L1-6',\n",
       " '1-B-5-L1-7',\n",
       " '1-B-5-L1-8',\n",
       " '1-B-5-L1-9',\n",
       " '10-L1-1',\n",
       " '10-L1-10',\n",
       " '10-L1-2',\n",
       " '10-L1-3',\n",
       " '10-L1-4',\n",
       " '10-L1-5',\n",
       " '10-L1-6',\n",
       " '10-L1-7',\n",
       " '10-L1-8',\n",
       " '10-L1-9',\n",
       " '11-L1-1',\n",
       " '11-L1-10',\n",
       " '11-L1-2',\n",
       " '11-L1-3',\n",
       " '11-L1-4',\n",
       " '11-L1-5',\n",
       " '11-L1-6',\n",
       " '11-L1-7',\n",
       " '11-L1-8',\n",
       " '11-L1-9',\n",
       " '13-L1-1',\n",
       " '13-L1-10',\n",
       " '13-L1-2',\n",
       " '13-L1-3',\n",
       " '13-L1-4',\n",
       " '13-L1-5',\n",
       " '13-L1-6',\n",
       " '13-L1-7',\n",
       " '13-L1-8',\n",
       " '13-L1-9',\n",
       " '7-A-1-L1-1',\n",
       " '7-A-1-L1-10',\n",
       " '7-A-1-L1-2',\n",
       " '7-A-1-L1-3',\n",
       " '7-A-1-L1-4',\n",
       " '7-A-1-L1-5',\n",
       " '7-A-1-L1-6',\n",
       " '7-A-1-L1-7',\n",
       " '7-A-1-L1-8',\n",
       " '7-A-1-L1-9',\n",
       " '7-A-3-L1-1',\n",
       " '7-A-3-L1-10',\n",
       " '7-A-3-L1-2',\n",
       " '7-A-3-L1-3',\n",
       " '7-A-3-L1-4',\n",
       " '7-A-3-L1-5',\n",
       " '7-A-3-L1-6',\n",
       " '7-A-3-L1-7',\n",
       " '7-A-3-L1-8',\n",
       " '7-A-3-L1-9',\n",
       " '7-B-1-L1-1',\n",
       " '7-B-1-L1-10',\n",
       " '7-B-1-L1-2',\n",
       " '7-B-1-L1-3',\n",
       " '7-B-1-L1-4',\n",
       " '7-B-1-L1-5',\n",
       " '7-B-1-L1-6',\n",
       " '7-B-1-L1-7',\n",
       " '7-B-1-L1-8',\n",
       " '7-B-1-L1-9',\n",
       " '7-B-3-L1-1',\n",
       " '7-B-3-L1-10',\n",
       " '7-B-3-L1-2',\n",
       " '7-B-3-L1-3',\n",
       " '7-B-3-L1-4',\n",
       " '7-B-3-L1-5',\n",
       " '7-B-3-L1-6',\n",
       " '7-B-3-L1-7',\n",
       " '7-B-3-L1-8',\n",
       " '7-B-3-L1-9',\n",
       " '7-B-4-L1-1',\n",
       " '7-B-4-L1-10',\n",
       " '7-B-4-L1-2',\n",
       " '7-B-4-L1-3',\n",
       " '7-B-4-L1-4',\n",
       " '7-B-4-L1-5',\n",
       " '7-B-4-L1-6',\n",
       " '7-B-4-L1-7',\n",
       " '7-B-4-L1-8',\n",
       " '7-B-4-L1-9',\n",
       " '8-A-1-L1-1',\n",
       " '8-A-1-L1-10',\n",
       " '8-A-1-L1-2',\n",
       " '8-A-1-L1-3',\n",
       " '8-A-1-L1-4',\n",
       " '8-A-1-L1-5',\n",
       " '8-A-1-L1-6',\n",
       " '8-A-1-L1-7',\n",
       " '8-A-1-L1-8',\n",
       " '8-A-1-L1-9',\n",
       " '8-A-3-L1-1',\n",
       " '8-A-3-L1-10',\n",
       " '8-A-3-L1-2',\n",
       " '8-A-3-L1-3',\n",
       " '8-A-3-L1-4',\n",
       " '8-A-3-L1-5',\n",
       " '8-A-3-L1-6',\n",
       " '8-A-3-L1-7',\n",
       " '8-A-3-L1-8',\n",
       " '8-A-3-L1-9',\n",
       " '8-A-5-L1-1',\n",
       " '8-A-5-L1-10',\n",
       " '8-A-5-L1-2',\n",
       " '8-A-5-L1-3',\n",
       " '8-A-5-L1-4',\n",
       " '8-A-5-L1-5',\n",
       " '8-A-5-L1-6',\n",
       " '8-A-5-L1-7',\n",
       " '8-A-5-L1-8',\n",
       " '8-A-5-L1-9',\n",
       " '8-B-1-L1-1',\n",
       " '8-B-1-L1-10',\n",
       " '8-B-1-L1-2',\n",
       " '8-B-1-L1-3',\n",
       " '8-B-1-L1-4',\n",
       " '8-B-1-L1-5',\n",
       " '8-B-1-L1-6',\n",
       " '8-B-1-L1-7',\n",
       " '8-B-1-L1-8',\n",
       " '8-B-1-L1-9',\n",
       " '8-B-3-L1-1',\n",
       " '8-B-3-L1-10',\n",
       " '8-B-3-L1-2',\n",
       " '8-B-3-L1-3',\n",
       " '8-B-3-L1-4',\n",
       " '8-B-3-L1-5',\n",
       " '8-B-3-L1-6',\n",
       " '8-B-3-L1-7',\n",
       " '8-B-3-L1-8',\n",
       " '8-B-3-L1-9',\n",
       " '9-A-1-L1-1',\n",
       " '9-A-1-L1-10',\n",
       " '9-A-1-L1-2',\n",
       " '9-A-1-L1-3',\n",
       " '9-A-1-L1-4',\n",
       " '9-A-1-L1-5',\n",
       " '9-A-1-L1-6',\n",
       " '9-A-1-L1-7',\n",
       " '9-A-1-L1-8',\n",
       " '9-A-1-L1-9',\n",
       " '9-A-3-L1-1',\n",
       " '9-A-3-L1-10',\n",
       " '9-A-3-L1-2',\n",
       " '9-A-3-L1-3',\n",
       " '9-A-3-L1-4',\n",
       " '9-A-3-L1-5',\n",
       " '9-A-3-L1-6',\n",
       " '9-A-3-L1-7',\n",
       " '9-A-3-L1-8',\n",
       " '9-A-3-L1-9',\n",
       " '9-A-5-L1-1',\n",
       " '9-A-5-L1-10',\n",
       " '9-A-5-L1-2',\n",
       " '9-A-5-L1-3',\n",
       " '9-A-5-L1-4',\n",
       " '9-A-5-L1-5',\n",
       " '9-A-5-L1-6',\n",
       " '9-A-5-L1-7',\n",
       " '9-A-5-L1-8',\n",
       " '9-A-5-L1-9',\n",
       " '9-B-1-L1-1',\n",
       " '9-B-1-L1-10',\n",
       " '9-B-1-L1-2',\n",
       " '9-B-1-L1-3',\n",
       " '9-B-1-L1-4',\n",
       " '9-B-1-L1-5',\n",
       " '9-B-1-L1-6',\n",
       " '9-B-1-L1-7',\n",
       " '9-B-1-L1-8',\n",
       " '9-B-1-L1-9',\n",
       " '9-B-3-L1-1',\n",
       " '9-B-3-L1-10',\n",
       " '9-B-3-L1-2',\n",
       " '9-B-3-L1-3',\n",
       " '9-B-3-L1-4',\n",
       " '9-B-3-L1-5',\n",
       " '9-B-3-L1-6',\n",
       " '9-B-3-L1-7',\n",
       " '9-B-3-L1-8',\n",
       " '9-B-3-L1-9',\n",
       " '9-B-5-L1-1',\n",
       " '9-B-5-L1-10',\n",
       " '9-B-5-L1-2',\n",
       " '9-B-5-L1-3',\n",
       " '9-B-5-L1-4',\n",
       " '9-B-5-L1-5',\n",
       " '9-B-5-L1-6',\n",
       " '9-B-5-L1-7',\n",
       " '9-B-5-L1-8',\n",
       " '9-B-5-L1-9']"
      ]
     },
     "execution_count": 37,
     "metadata": {},
     "output_type": "execute_result"
    }
   ],
   "source": [
    "device_name.iloc[:,0].tolist()"
   ]
  },
  {
   "cell_type": "code",
   "execution_count": 33,
   "metadata": {
    "collapsed": true
   },
   "outputs": [],
   "source": [
    "kv=WordEmbeddingsKeyedVectors(128)\n"
   ]
  },
  {
   "cell_type": "code",
   "execution_count": 38,
   "metadata": {
    "collapsed": true
   },
   "outputs": [],
   "source": [
    "kv.add(\n",
    "device_name.iloc[:,0].tolist(),\n",
    "emb_ten.values\n",
    "\n",
    ")"
   ]
  },
  {
   "cell_type": "code",
   "execution_count": 40,
   "metadata": {},
   "outputs": [
    {
     "data": {
      "text/plain": [
       "(128,)"
      ]
     },
     "execution_count": 40,
     "metadata": {},
     "output_type": "execute_result"
    }
   ],
   "source": [
    "kv.get_vector('1-A-3-L1-5')"
   ]
  },
  {
   "cell_type": "markdown",
   "metadata": {},
   "source": [
    "# Identifying Similar Devices to the given devices"
   ]
  },
  {
   "cell_type": "code",
   "execution_count": 41,
   "metadata": {},
   "outputs": [
    {
     "name": "stderr",
     "output_type": "stream",
     "text": [
      "C:\\Users\\gurunath.lv\\AppData\\Local\\Continuum\\Anaconda3\\lib\\site-packages\\gensim\\matutils.py:737: FutureWarning: Conversion of the second argument of issubdtype from `int` to `np.signedinteger` is deprecated. In future, it will be treated as `np.int32 == np.dtype(int).type`.\n",
      "  if np.issubdtype(vec.dtype, np.int):\n"
     ]
    },
    {
     "data": {
      "text/plain": [
       "[('9-B-1-L1-10', 0.23108795285224915),\n",
       " ('8-A-3-L1-3', 0.2303399294614792),\n",
       " ('1-A-3-L1-3', 0.20361751317977905),\n",
       " ('9-A-5-L1-7', 0.18984170258045197),\n",
       " ('1-B-5-L1-4', 0.18239417672157288),\n",
       " ('9-A-3-L1-7', 0.1755242794752121),\n",
       " ('8-B-3-L1-8', 0.17273716628551483),\n",
       " ('1-A-1-L1-6', 0.15935838222503662),\n",
       " ('1-B-5-L1-2', 0.15572769939899445),\n",
       " ('8-B-1-L1-8', 0.14670029282569885)]"
      ]
     },
     "execution_count": 41,
     "metadata": {},
     "output_type": "execute_result"
    }
   ],
   "source": [
    "kv.most_similar('1-A-3-L1-5')"
   ]
  },
  {
   "cell_type": "code",
   "execution_count": null,
   "metadata": {
    "collapsed": true
   },
   "outputs": [],
   "source": [
    "kv.most_similar('1-A-3-L1-5')"
   ]
  },
  {
   "cell_type": "code",
   "execution_count": 48,
   "metadata": {
    "collapsed": true
   },
   "outputs": [],
   "source": [
    "import matplotlib.pyplot as plt\n",
    "from sklearn.decomposition import PCA\n",
    "plt.style.use('fivethirtyeight')"
   ]
  },
  {
   "cell_type": "code",
   "execution_count": 45,
   "metadata": {
    "collapsed": true
   },
   "outputs": [],
   "source": [
    "pca =PCA(n_components=2)\n",
    "emb_vect=pca.fit_transform(emb_ten.values)\n"
   ]
  },
  {
   "cell_type": "code",
   "execution_count": 49,
   "metadata": {},
   "outputs": [
    {
     "data": {
      "image/png": "[encoded data removed]",
      "text/plain": [
       "<Figure size 432x288 with 1 Axes>"
      ]
     },
     "metadata": {},
     "output_type": "display_data"
    }
   ],
   "source": [
    "plt.scatter(emb_vect[:,0],emb_vect[:,1])\n",
    "plt.title('Device Embedding vis')\n",
    "plt.show()"
   ]
  },
  {
   "cell_type": "code",
   "execution_count": 6,
   "metadata": {
    "collapsed": true
   },
   "outputs": [],
   "source": [
    "raw_df=pd.read_feather(f'{DATA_DIR}raw_df_feather')"
   ]
  },
  {
   "cell_type": "code",
   "execution_count": 55,
   "metadata": {
    "collapsed": true
   },
   "outputs": [],
   "source": [
    "import torch\n",
    "import torch.nn as nn"
   ]
  },
  {
   "cell_type": "code",
   "execution_count": 58,
   "metadata": {
    "collapsed": true
   },
   "outputs": [],
   "source": [
    "class DeviceEmbedder(nn.Module):\n",
    "    def __init__(self,emb_dims):\n",
    "        \"\"\"\n",
    "        emb_dims :[120,128]\n",
    "        \"\"\"\n",
    "        super().__init__()\n",
    "        \n",
    "        \n",
    "        self.emb_layers = nn.Embedding(emb_dims[0],emb_dims[1])\n",
    "        self.layer1=nn.Linear(emb_dims[1]+1,128)\n",
    "        self.out=nn.Linear(128,11)\n",
    "        \n",
    "    def forward(self,cat,timeComponent):\n",
    "        x=self.emb_layers(cat).type_as(timeComponent).squeeze()\n",
    "        x = torch.cat([x, timeComponent.view(-1,1)], 1)\n",
    "        x=self.layer1(x)\n",
    "        x=F.dropout(x,p=0.4)\n",
    "        x=F.relu(x)\n",
    "        x=self.out(x)\n",
    "        return x"
   ]
  },
  {
   "cell_type": "code",
   "execution_count": 63,
   "metadata": {},
   "outputs": [
    {
     "data": {
      "text/plain": [
       "[('emb_layers.weight', Parameter containing:\n",
       "  tensor([[ 6.1708e-01, -4.1549e-01,  2.6750e+00,  ...,  1.2350e-01,\n",
       "           -4.4005e-01, -1.0657e+00],\n",
       "          [-8.3456e-01, -7.3330e-02, -1.5573e-01,  ...,  1.2254e+00,\n",
       "            2.0884e+00,  1.0381e+00],\n",
       "          [-8.6198e-01,  1.1581e+00,  3.3561e-01,  ...,  1.5335e+00,\n",
       "           -1.0120e+00, -9.0980e-01],\n",
       "          ...,\n",
       "          [ 1.4270e+00,  2.5715e-01, -2.3051e-01,  ..., -2.2193e-02,\n",
       "           -2.7856e+00,  1.1381e-01],\n",
       "          [-8.8117e-01, -6.4589e-01, -6.3751e-02,  ...,  1.2253e+00,\n",
       "           -3.9830e-01,  5.9242e-01],\n",
       "          [ 8.7559e-02, -1.1172e+00, -9.9012e-02,  ...,  1.2805e-01,\n",
       "            9.6820e-02,  6.5538e-01]])),\n",
       " ('layer1.weight', Parameter containing:\n",
       "  tensor(1.00000e-02 *\n",
       "         [[-0.5452,  2.7094, -5.9437,  ...,  2.9273, -6.2307,  5.0567],\n",
       "          [ 1.9126, -1.7747, -7.6427,  ..., -4.2719, -3.7413,  5.2480],\n",
       "          [-2.5551,  6.0508,  1.6493,  ..., -2.9852,  5.0495, -7.7881],\n",
       "          ...,\n",
       "          [ 1.2425, -8.6512, -7.6607,  ...,  8.4215, -4.9978, -2.2378],\n",
       "          [ 5.6193, -5.0160, -0.2346,  ..., -5.6615, -6.3748,  8.2059],\n",
       "          [ 0.0070,  2.1619, -7.7024,  ..., -8.3390,  8.2048, -1.5489]])),\n",
       " ('layer1.bias', Parameter containing:\n",
       "  tensor(1.00000e-02 *\n",
       "         [-6.6474,  7.1485, -6.8770,  0.4961,  8.0632,  3.7274,  2.2716,\n",
       "          -0.1391,  3.5468, -5.5309,  3.1810, -2.2076,  4.5189,  7.8812,\n",
       "           7.4445, -1.4459,  4.2718, -4.2498, -1.8737, -6.2568, -1.9320,\n",
       "          -5.2438, -8.8039,  2.1607,  5.6769,  0.5075, -7.7736,  4.1082,\n",
       "          -6.4255,  6.0616,  4.3007, -6.5515,  8.0417,  5.0303,  0.1985,\n",
       "           7.6473, -5.7882,  8.1516,  2.5182,  1.4939, -7.7411,  8.4768,\n",
       "           0.4652,  6.8140,  7.1234, -4.0219,  1.7877,  0.4132,  3.5460,\n",
       "           0.6108, -6.0594,  0.7333,  1.1206,  8.4940,  2.2024,  1.3751,\n",
       "          -7.3962, -0.7920,  4.9163,  0.1872, -2.8239,  8.3849,  3.1364,\n",
       "          -5.8328, -0.7050,  7.7413,  0.6707, -5.2748, -8.0725,  0.2599,\n",
       "          -2.7666,  5.5471, -5.7313,  5.6150,  3.5469,  3.2826, -5.7194,\n",
       "          -4.7200, -2.6069,  6.4504,  5.6870, -0.3400,  7.7156,  5.2164,\n",
       "          -3.1071, -8.4338, -0.9287, -1.7405,  5.3937, -1.8477,  1.5778,\n",
       "           7.2351, -6.9907, -5.4345,  4.3296, -0.0440, -4.0563,  8.3316,\n",
       "           2.3475, -8.4513,  7.1473, -3.0656, -6.6542,  0.6121, -8.2417,\n",
       "          -7.9393,  2.6974,  7.4747,  6.6404,  3.7584, -1.8439, -4.6193,\n",
       "           6.1323,  6.9889,  6.6185,  6.6714, -5.7200,  2.4074, -8.3804,\n",
       "          -0.2064,  8.4516, -4.9229,  5.0197, -1.7910,  4.2373, -8.3945,\n",
       "           5.2262, -0.8093])),\n",
       " ('out.weight', Parameter containing:\n",
       "  tensor(1.00000e-02 *\n",
       "         [[-6.1356, -4.1202, -2.2158,  ...,  5.9313,  4.1277,  2.5194],\n",
       "          [-3.1773,  3.0541, -4.5400,  ..., -2.8486, -2.6822, -7.0156],\n",
       "          [-5.0642, -6.1875, -7.7002,  ...,  0.5614,  1.0416,  4.4418],\n",
       "          ...,\n",
       "          [ 1.3236,  2.2969,  4.8313,  ...,  8.2990,  3.2910, -5.8688],\n",
       "          [-6.1978,  3.8717,  1.7384,  ...,  2.1404,  2.7475,  1.3250],\n",
       "          [ 4.3146, -8.1036, -4.4273,  ..., -2.0233, -2.5788,  4.6966]])),\n",
       " ('out.bias', Parameter containing:\n",
       "  tensor(1.00000e-02 *\n",
       "         [ 8.7350,  2.4666, -0.4365,  3.9055, -1.8275,  4.1713,  7.6629,\n",
       "           5.5687, -3.5180, -0.6109, -1.2946]))]"
      ]
     },
     "execution_count": 63,
     "metadata": {},
     "output_type": "execute_result"
    }
   ],
   "source": [
    "emb_dims=(240,128) \n",
    "Reg=DeviceEmbedder(emb_dims)\n",
    "list(Reg.named_parameters())"
   ]
  },
  {
   "cell_type": "code",
   "execution_count": 65,
   "metadata": {},
   "outputs": [
    {
     "data": {
      "text/plain": [
       "[('emb_layers.weight', Parameter containing:\n",
       "  tensor([[-1.0416e+00, -2.5120e-01, -1.2447e+00,  ...,  1.6387e-01,\n",
       "            1.7334e-01, -4.2716e-01],\n",
       "          [-4.5301e-01, -4.5846e-01,  1.2128e+00,  ..., -9.2481e-01,\n",
       "           -1.9289e-01,  1.1092e+00],\n",
       "          [-9.3758e-01,  5.9672e-01,  1.1010e+00,  ...,  6.2426e-01,\n",
       "           -3.2312e-01,  1.6159e+00],\n",
       "          ...,\n",
       "          [ 2.2082e+00,  2.3062e-01,  2.3943e-01,  ...,  3.9519e-01,\n",
       "            1.1865e+00,  4.7188e-01],\n",
       "          [ 9.8228e-01, -4.8042e-01,  1.2414e+00,  ...,  2.4421e-02,\n",
       "            2.6855e-01,  9.3667e-01],\n",
       "          [ 3.1638e-01,  5.0945e-01, -1.3871e+00,  ..., -3.8081e-01,\n",
       "            1.4523e-01, -8.5182e-01]])),\n",
       " ('layer1.weight', Parameter containing:\n",
       "  tensor([[ 1.3963e-01, -4.1937e-02,  1.5311e-01,  ..., -1.5111e-02,\n",
       "            1.4756e-01,  5.3420e-02],\n",
       "          [-1.4633e-02,  9.2431e-02, -2.5998e-03,  ...,  9.0937e-02,\n",
       "           -3.6321e-02,  1.2971e-01],\n",
       "          [ 5.1825e-02, -3.6206e-02,  3.4374e-02,  ...,  2.2276e-02,\n",
       "            2.7076e-02, -1.6382e-01],\n",
       "          ...,\n",
       "          [ 3.3389e-02, -1.2694e-01,  7.1358e-02,  ...,  1.1219e-02,\n",
       "           -1.1853e-01,  2.6910e-01],\n",
       "          [ 1.4266e-02, -7.6440e-04,  6.5801e-02,  ..., -1.6418e-02,\n",
       "           -5.2712e-02, -7.7152e-01],\n",
       "          [-5.9452e-02,  3.9211e-02,  5.6145e-02,  ..., -4.3413e-02,\n",
       "            9.4344e-03, -8.2669e-01]])),\n",
       " ('layer1.bias', Parameter containing:\n",
       "  tensor([ 0.0239, -0.1707, -0.4204, -0.4413, -0.5917, -0.4559, -0.4962,\n",
       "          -0.1485, -0.3531, -0.4688, -0.4927, -0.0994, -0.4642, -0.4952,\n",
       "          -0.4370, -0.3041, -0.5692, -0.4090, -0.3550, -0.0452, -0.4911,\n",
       "          -0.4976,  0.1183, -0.3235, -0.4987, -0.4347, -0.4366, -0.5297,\n",
       "          -0.4210, -0.3987, -0.5260, -0.2276, -0.3387, -0.4254, -0.1361,\n",
       "          -0.3736, -0.1356, -0.1930, -0.3989, -0.4783, -0.3515, -0.0123,\n",
       "           0.3997, -0.2675, -0.4402, -0.4245, -0.4173, -0.5023, -0.4071,\n",
       "          -0.4271, -0.0877, -0.4327, -0.4691, -0.5006, -0.3789, -0.5038,\n",
       "          -0.1818, -0.0859, -0.4279,  0.3797, -0.4484, -0.4153, -0.2446,\n",
       "          -0.3719, -0.5022, -0.4541, -0.5388, -0.0315,  0.0310, -0.2273,\n",
       "          -0.3503, -0.0653, -0.4125,  0.2642, -0.4364, -0.4274, -0.1318,\n",
       "          -0.3365, -0.4869, -0.0392, -0.4746, -0.1435, -0.4646, -0.4487,\n",
       "          -0.3747, -0.3973,  0.0615, -0.0545, -0.4285, -0.1986, -0.5359,\n",
       "          -0.3023, -0.4118, -0.3980, -0.4889, -0.5494, -0.2527, -0.4385,\n",
       "          -0.5255, -0.2316, -0.4995, -0.5141, -0.3383, -0.3156, -0.3369,\n",
       "           0.0351, -0.4502, -0.4502,  0.1221, -0.4417,  0.1341, -0.0183,\n",
       "          -0.4719, -0.5578, -0.3346, -0.4222, -0.4644,  0.1656, -0.1288,\n",
       "          -0.4498, -0.3804, -0.3500, -0.3425, -0.4021, -0.4707,  0.1342,\n",
       "          -0.3270, -0.2979])),\n",
       " ('out.weight', Parameter containing:\n",
       "  tensor([[-3.4076e-05, -1.4500e-03,  3.3050e-03,  ..., -4.6201e-05,\n",
       "           -1.6246e-04, -4.3267e-03],\n",
       "          [ 1.0684e-03,  2.1907e-03,  7.3792e-04,  ...,  3.8374e-05,\n",
       "           -8.1854e-04,  7.1171e-04],\n",
       "          [ 5.1662e-02,  7.5601e-03,  3.6327e-02,  ..., -1.3297e-02,\n",
       "            9.3914e-03, -3.7467e-03],\n",
       "          ...,\n",
       "          [ 3.7814e-02, -2.8755e-02, -1.4420e-02,  ..., -1.1349e-02,\n",
       "           -1.7103e-02, -2.2227e-02],\n",
       "          [ 1.8059e-02, -1.2610e-02, -6.7843e-03,  ..., -8.6028e-03,\n",
       "           -5.9685e-03, -1.3039e-02],\n",
       "          [ 1.8299e-02, -1.2833e-02, -1.3339e-02,  ...,  2.7230e-02,\n",
       "            1.5040e-02, -8.4391e-03]])),\n",
       " ('out.bias', Parameter containing:\n",
       "  tensor([-0.0011,  0.0022,  0.3697,  0.7657,  0.9332,  0.7102,  0.6787,\n",
       "           0.5611,  0.4887,  0.2932,  0.3047]))]"
      ]
     },
     "execution_count": 65,
     "metadata": {},
     "output_type": "execute_result"
    }
   ],
   "source": [
    "Reg.load_state_dict(torch.load(r'D:\\windstream_official\\Anomaly detection\\models\\deviceEmb_model.pkt'))\n",
    "list(Reg.named_parameters())"
   ]
  },
  {
   "cell_type": "code",
   "execution_count": 67,
   "metadata": {
    "collapsed": true
   },
   "outputs": [],
   "source": [
    "test=raw_df.iloc[-1000:]"
   ]
  },
  {
   "cell_type": "code",
   "execution_count": 71,
   "metadata": {},
   "outputs": [
    {
     "ename": "ModuleNotFoundError",
     "evalue": "No module named 'pandas.core.arrays'",
     "output_type": "error",
     "traceback": [
      "\u001b[1;31m---------------------------------------------------------------------------\u001b[0m",
      "\u001b[1;31mModuleNotFoundError\u001b[0m                       Traceback (most recent call last)",
      "\u001b[1;32m<ipython-input-71-e1e3e9984ed8>\u001b[0m in \u001b[0;36m<module>\u001b[1;34m()\u001b[0m\n\u001b[0;32m      1\u001b[0m \u001b[1;32mimport\u001b[0m \u001b[0mpickle\u001b[0m\u001b[1;33m\u001b[0m\u001b[0m\n\u001b[0;32m      2\u001b[0m \u001b[1;31m#pd_cat_codes=test[cat_names[0]]\u001b[0m\u001b[1;33m\u001b[0m\u001b[1;33m\u001b[0m\u001b[0m\n\u001b[1;32m----> 3\u001b[1;33m \u001b[0mpd_cat_codes\u001b[0m\u001b[1;33m=\u001b[0m\u001b[0mpickle\u001b[0m\u001b[1;33m.\u001b[0m\u001b[0mload\u001b[0m\u001b[1;33m(\u001b[0m\u001b[0mopen\u001b[0m\u001b[1;33m(\u001b[0m\u001b[1;34m'D:\\windstream_official\\Anomaly detection\\models\\device_catemb.pkl'\u001b[0m\u001b[1;33m,\u001b[0m\u001b[1;34m'rb'\u001b[0m\u001b[1;33m)\u001b[0m\u001b[1;33m)\u001b[0m\u001b[1;33m\u001b[0m\u001b[0m\n\u001b[0m\u001b[0;32m      4\u001b[0m \u001b[1;31m#feat_df[cat_names[0]]=pd_cat_codes.cat.codes\u001b[0m\u001b[1;33m\u001b[0m\u001b[1;33m\u001b[0m\u001b[0m\n",
      "\u001b[1;31mModuleNotFoundError\u001b[0m: No module named 'pandas.core.arrays'"
     ]
    }
   ],
   "source": [
    "import pickle\n",
    "#pd_cat_codes=test[cat_names[0]]\n",
    "pd_cat_codes=pickle.load(open('D:\\windstream_official\\Anomaly detection\\models\\device_catemb.pkl','rb'))\n",
    "#feat_df[cat_names[0]]=pd_cat_codes.cat.codes\n"
   ]
  },
  {
   "cell_type": "code",
   "execution_count": 76,
   "metadata": {
    "collapsed": true
   },
   "outputs": [],
   "source": [
    "import numpy as np"
   ]
  },
  {
   "cell_type": "code",
   "execution_count": 84,
   "metadata": {
    "collapsed": true
   },
   "outputs": [],
   "source": [
    "#Reg(torch.LongTensor([227]).view(-1,0),torch.from_numpy(np.array([0.354,0.456])))"
   ]
  },
  {
   "cell_type": "code",
   "execution_count": 88,
   "metadata": {},
   "outputs": [
    {
     "data": {
      "text/plain": [
       "Index(['BerPostFecAve', 'BerPostFecMax', 'BerPostFecMin', 'BerPreFecAve',\n",
       "       'BerPreFecMax', 'BerPreFecMin', 'CWProc', 'CardType',\n",
       "       'ChanOchChromaticDispersionAve', 'ChanOchChromaticDispersionMax',\n",
       "       'ChanOchChromaticDispersionMin', 'ChanOchLBCAve', 'ChanOchLBCMax',\n",
       "       'ChanOchLBCMin', 'ChanOchOprAve', 'ChanOchOprMax', 'ChanOchOprMin',\n",
       "       'ChanOchOptAve', 'ChanOchOptMax', 'ChanOchOptMin', 'CrctdBits',\n",
       "       'PhaseCorrectionAve', 'PhaseCorrectionMax', 'PhaseCorrectionMin',\n",
       "       'PmdAve', 'PmdMax', 'PmdMin', 'Qave', 'Qmax', 'Qmin', 'SoPmdAve',\n",
       "       'SoPmdMax', 'SoPmdMin', 'UnCrctblCW', 'performance_metrics.module',\n",
       "       'performance_metrics.nodeid', 'performance_metrics.nodename',\n",
       "       'performance_metrics.section', 'performance_metrics.ts',\n",
       "       'performance_metrics.valid'],\n",
       "      dtype='object')"
      ]
     },
     "execution_count": 88,
     "metadata": {},
     "output_type": "execute_result"
    }
   ],
   "source": [
    "#Reg(test[''])\n",
    "raw_df.columns"
   ]
  },
  {
   "cell_type": "code",
   "execution_count": 89,
   "metadata": {
    "collapsed": true
   },
   "outputs": [],
   "source": [
    "timeseries=raw_df[['PhaseCorrectionAve','BerPreFecAve','performance_metrics.module']]"
   ]
  },
  {
   "cell_type": "code",
   "execution_count": 20,
   "metadata": {},
   "outputs": [
    {
     "name": "stderr",
     "output_type": "stream",
     "text": [
      "C:\\Users\\gurunath.lv\\AppData\\Local\\Continuum\\Anaconda3\\lib\\site-packages\\ipykernel\\__main__.py:1: SettingWithCopyWarning: \n",
      "A value is trying to be set on a copy of a slice from a DataFrame.\n",
      "Try using .loc[row_indexer,col_indexer] = value instead\n",
      "\n",
      "See the caveats in the documentation: http://pandas.pydata.org/pandas-docs/stable/indexing.html#indexing-view-versus-copy\n",
      "  if __name__ == '__main__':\n"
     ]
    }
   ],
   "source": [
    "timeseries['colum_id']=timeseries.index"
   ]
  },
  {
   "cell_type": "code",
   "execution_count": 23,
   "metadata": {},
   "outputs": [
    {
     "data": {
      "text/html": [
       "<div>\n",
       "<style>\n",
       "    .dataframe thead tr:only-child th {\n",
       "        text-align: right;\n",
       "    }\n",
       "\n",
       "    .dataframe thead th {\n",
       "        text-align: left;\n",
       "    }\n",
       "\n",
       "    .dataframe tbody tr th {\n",
       "        vertical-align: top;\n",
       "    }\n",
       "</style>\n",
       "<table border=\"1\" class=\"dataframe\">\n",
       "  <thead>\n",
       "    <tr style=\"text-align: right;\">\n",
       "      <th></th>\n",
       "      <th>PhaseCorrectionAve</th>\n",
       "      <th>BerPreFecAve</th>\n",
       "      <th>colum_id</th>\n",
       "    </tr>\n",
       "  </thead>\n",
       "  <tbody>\n",
       "    <tr>\n",
       "      <th>0</th>\n",
       "      <td>-55.0</td>\n",
       "      <td>0.000371</td>\n",
       "      <td>0</td>\n",
       "    </tr>\n",
       "    <tr>\n",
       "      <th>1</th>\n",
       "      <td>-55.0</td>\n",
       "      <td>0.000371</td>\n",
       "      <td>1</td>\n",
       "    </tr>\n",
       "    <tr>\n",
       "      <th>2</th>\n",
       "      <td>-55.0</td>\n",
       "      <td>0.000375</td>\n",
       "      <td>2</td>\n",
       "    </tr>\n",
       "    <tr>\n",
       "      <th>3</th>\n",
       "      <td>-55.0</td>\n",
       "      <td>0.000375</td>\n",
       "      <td>3</td>\n",
       "    </tr>\n",
       "    <tr>\n",
       "      <th>4</th>\n",
       "      <td>-55.0</td>\n",
       "      <td>0.000368</td>\n",
       "      <td>4</td>\n",
       "    </tr>\n",
       "  </tbody>\n",
       "</table>\n",
       "</div>"
      ],
      "text/plain": [
       "   PhaseCorrectionAve  BerPreFecAve  colum_id\n",
       "0               -55.0      0.000371         0\n",
       "1               -55.0      0.000371         1\n",
       "2               -55.0      0.000375         2\n",
       "3               -55.0      0.000375         3\n",
       "4               -55.0      0.000368         4"
      ]
     },
     "execution_count": 23,
     "metadata": {},
     "output_type": "execute_result"
    }
   ],
   "source": [
    "timeseries.head()"
   ]
  },
  {
   "cell_type": "code",
   "execution_count": 92,
   "metadata": {
    "collapsed": true
   },
   "outputs": [],
   "source": [
    "timeseries=timeseries.fillna(0)"
   ]
  },
  {
   "cell_type": "code",
   "execution_count": null,
   "metadata": {
    "collapsed": true
   },
   "outputs": [],
   "source": [
    "samplets=timeseries.iloc[:1000]"
   ]
  },
  {
   "cell_type": "code",
   "execution_count": null,
   "metadata": {
    "collapsed": true
   },
   "outputs": [],
   "source": [
    "from tsfresh import extract_features\n",
    "extracted_features = extract_features(samplets, column_id='performance_metrics.module')"
   ]
  },
  {
   "cell_type": "code",
   "execution_count": 87,
   "metadata": {
    "collapsed": true
   },
   "outputs": [],
   "source": [
    "extracted_features"
   ]
  }
 ],
 "metadata": {
  "kernelspec": {
   "display_name": "Python 3",
   "language": "python",
   "name": "python3"
  },
  "language_info": {
   "codemirror_mode": {
    "name": "ipython",
    "version": 3
   },
   "file_extension": ".py",
   "mimetype": "text/x-python",
   "name": "python",
   "nbconvert_exporter": "python",
   "pygments_lexer": "ipython3",
   "version": "3.6.0"
  }
 },
 "nbformat": 4,
 "nbformat_minor": 2
}
